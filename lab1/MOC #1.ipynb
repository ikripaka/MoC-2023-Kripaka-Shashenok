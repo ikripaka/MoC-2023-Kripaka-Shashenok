{
 "cells": [
  {
   "cell_type": "code",
   "execution_count": 1,
   "id": "a831cd18",
   "metadata": {
    "ExecuteTime": {
     "end_time": "2023-10-18T18:18:46.871313703Z",
     "start_time": "2023-10-18T18:18:46.443277076Z"
    }
   },
   "outputs": [],
   "source": [
    "import numpy as np\n",
    "import pandas as pd"
   ]
  },
  {
   "cell_type": "markdown",
   "source": [
    "## Читаємо дані та представляємо їх у правильному вигляді"
   ],
   "metadata": {
    "collapsed": false
   },
   "id": "a6a39094551046c7"
  },
  {
   "cell_type": "code",
   "execution_count": 2,
   "id": "b8b91410",
   "metadata": {
    "ExecuteTime": {
     "end_time": "2023-10-18T18:18:46.883180922Z",
     "start_time": "2023-10-18T18:18:46.872528722Z"
    }
   },
   "outputs": [],
   "source": [
    "df_table = pd.read_csv(r'./table_04.csv')\n",
    "length_table = 20"
   ]
  },
  {
   "cell_type": "code",
   "execution_count": 3,
   "id": "2c4f8561",
   "metadata": {
    "ExecuteTime": {
     "end_time": "2023-10-18T18:18:46.920326966Z",
     "start_time": "2023-10-18T18:18:46.889258069Z"
    }
   },
   "outputs": [
    {
     "data": {
      "text/plain": "     3  11  17  19  12   6   2  15  13  14   1  18   5   0  16   8  10   7  \\\n0   17   5   6  15  12  10   8  16   4   0   7   2   3  18  11   1  13  19   \n1   13  15   8   6   7  11  18   2  10  14  17   4   1  19  12  16   3   0   \n2   15   7  10  19   5   0  14   3  11   6  12   9  17  18   2  13   4  16   \n3    9   4   1   7   6   2  14   0  13   8   5   3  19  18  11  12  10  16   \n4   17   2  16   7  15   6   1  18  10   3   9   4  19   5  11  12  14   8   \n5   13  10  19   4  18   2   7   9  15  16   3   1  17  11   6  12   8   0   \n6   11   4   1  16   9  13  19   8  18   5  15  10   3   7   0  17  14   2   \n7   16  19   6  10   0  15   7  13   4   2  14   3  17   5  18  11   1   9   \n8    1  12  14  15   2  19   0   3   7   6   8  18   4  11  10   5   9  13   \n9    8   2   6   5  18  16   9   1  19  17  15   7   0  10   4   3  14  13   \n10  11   2  13   7  18   8   9   1  14  12   4  17  10  15  16   6   0   3   \n11  16   3   6  18  11   8  17  15  13  10   5   2   1   7  12  19   4   9   \n12  12   4   0   8  13  10   9   6  17   3   1  14  16  15   5  19  18  11   \n13  12  10  17   2   6  16   3  15   9  13   4   1  19  14  11   0   8  18   \n14  19  16  10   7   8  14  15   1   6  13   5  12   4  11  17   3  18   0   \n15  12   4  13  17  10   9   0  15   2  19  16   1   7   5  11   8   6  14   \n16  15   8   3  12   1  14  10  11  17  16   9   4   5   6   0   7  19  13   \n17  11   3  12   7   1   2   9  14   4  17   6  19   8  10  16  18   0   5   \n18   2   9  18  15   0   6  16  13  12   4  19  10  11   1   7  17   3   8   \n\n     4   9  \n0    9  14  \n1    5   9  \n2    1   8  \n3   15  17  \n4   13   0  \n5    5  14  \n6    6  12  \n7    8  12  \n8   16  17  \n9   12  11  \n10  19   5  \n11   0  14  \n12   7   2  \n13   7   5  \n14   2   9  \n15   3  18  \n16   2  18  \n17  13  15  \n18   5  14  ",
      "text/html": "<div>\n<style scoped>\n    .dataframe tbody tr th:only-of-type {\n        vertical-align: middle;\n    }\n\n    .dataframe tbody tr th {\n        vertical-align: top;\n    }\n\n    .dataframe thead th {\n        text-align: right;\n    }\n</style>\n<table border=\"1\" class=\"dataframe\">\n  <thead>\n    <tr style=\"text-align: right;\">\n      <th></th>\n      <th>3</th>\n      <th>11</th>\n      <th>17</th>\n      <th>19</th>\n      <th>12</th>\n      <th>6</th>\n      <th>2</th>\n      <th>15</th>\n      <th>13</th>\n      <th>14</th>\n      <th>1</th>\n      <th>18</th>\n      <th>5</th>\n      <th>0</th>\n      <th>16</th>\n      <th>8</th>\n      <th>10</th>\n      <th>7</th>\n      <th>4</th>\n      <th>9</th>\n    </tr>\n  </thead>\n  <tbody>\n    <tr>\n      <th>0</th>\n      <td>17</td>\n      <td>5</td>\n      <td>6</td>\n      <td>15</td>\n      <td>12</td>\n      <td>10</td>\n      <td>8</td>\n      <td>16</td>\n      <td>4</td>\n      <td>0</td>\n      <td>7</td>\n      <td>2</td>\n      <td>3</td>\n      <td>18</td>\n      <td>11</td>\n      <td>1</td>\n      <td>13</td>\n      <td>19</td>\n      <td>9</td>\n      <td>14</td>\n    </tr>\n    <tr>\n      <th>1</th>\n      <td>13</td>\n      <td>15</td>\n      <td>8</td>\n      <td>6</td>\n      <td>7</td>\n      <td>11</td>\n      <td>18</td>\n      <td>2</td>\n      <td>10</td>\n      <td>14</td>\n      <td>17</td>\n      <td>4</td>\n      <td>1</td>\n      <td>19</td>\n      <td>12</td>\n      <td>16</td>\n      <td>3</td>\n      <td>0</td>\n      <td>5</td>\n      <td>9</td>\n    </tr>\n    <tr>\n      <th>2</th>\n      <td>15</td>\n      <td>7</td>\n      <td>10</td>\n      <td>19</td>\n      <td>5</td>\n      <td>0</td>\n      <td>14</td>\n      <td>3</td>\n      <td>11</td>\n      <td>6</td>\n      <td>12</td>\n      <td>9</td>\n      <td>17</td>\n      <td>18</td>\n      <td>2</td>\n      <td>13</td>\n      <td>4</td>\n      <td>16</td>\n      <td>1</td>\n      <td>8</td>\n    </tr>\n    <tr>\n      <th>3</th>\n      <td>9</td>\n      <td>4</td>\n      <td>1</td>\n      <td>7</td>\n      <td>6</td>\n      <td>2</td>\n      <td>14</td>\n      <td>0</td>\n      <td>13</td>\n      <td>8</td>\n      <td>5</td>\n      <td>3</td>\n      <td>19</td>\n      <td>18</td>\n      <td>11</td>\n      <td>12</td>\n      <td>10</td>\n      <td>16</td>\n      <td>15</td>\n      <td>17</td>\n    </tr>\n    <tr>\n      <th>4</th>\n      <td>17</td>\n      <td>2</td>\n      <td>16</td>\n      <td>7</td>\n      <td>15</td>\n      <td>6</td>\n      <td>1</td>\n      <td>18</td>\n      <td>10</td>\n      <td>3</td>\n      <td>9</td>\n      <td>4</td>\n      <td>19</td>\n      <td>5</td>\n      <td>11</td>\n      <td>12</td>\n      <td>14</td>\n      <td>8</td>\n      <td>13</td>\n      <td>0</td>\n    </tr>\n    <tr>\n      <th>5</th>\n      <td>13</td>\n      <td>10</td>\n      <td>19</td>\n      <td>4</td>\n      <td>18</td>\n      <td>2</td>\n      <td>7</td>\n      <td>9</td>\n      <td>15</td>\n      <td>16</td>\n      <td>3</td>\n      <td>1</td>\n      <td>17</td>\n      <td>11</td>\n      <td>6</td>\n      <td>12</td>\n      <td>8</td>\n      <td>0</td>\n      <td>5</td>\n      <td>14</td>\n    </tr>\n    <tr>\n      <th>6</th>\n      <td>11</td>\n      <td>4</td>\n      <td>1</td>\n      <td>16</td>\n      <td>9</td>\n      <td>13</td>\n      <td>19</td>\n      <td>8</td>\n      <td>18</td>\n      <td>5</td>\n      <td>15</td>\n      <td>10</td>\n      <td>3</td>\n      <td>7</td>\n      <td>0</td>\n      <td>17</td>\n      <td>14</td>\n      <td>2</td>\n      <td>6</td>\n      <td>12</td>\n    </tr>\n    <tr>\n      <th>7</th>\n      <td>16</td>\n      <td>19</td>\n      <td>6</td>\n      <td>10</td>\n      <td>0</td>\n      <td>15</td>\n      <td>7</td>\n      <td>13</td>\n      <td>4</td>\n      <td>2</td>\n      <td>14</td>\n      <td>3</td>\n      <td>17</td>\n      <td>5</td>\n      <td>18</td>\n      <td>11</td>\n      <td>1</td>\n      <td>9</td>\n      <td>8</td>\n      <td>12</td>\n    </tr>\n    <tr>\n      <th>8</th>\n      <td>1</td>\n      <td>12</td>\n      <td>14</td>\n      <td>15</td>\n      <td>2</td>\n      <td>19</td>\n      <td>0</td>\n      <td>3</td>\n      <td>7</td>\n      <td>6</td>\n      <td>8</td>\n      <td>18</td>\n      <td>4</td>\n      <td>11</td>\n      <td>10</td>\n      <td>5</td>\n      <td>9</td>\n      <td>13</td>\n      <td>16</td>\n      <td>17</td>\n    </tr>\n    <tr>\n      <th>9</th>\n      <td>8</td>\n      <td>2</td>\n      <td>6</td>\n      <td>5</td>\n      <td>18</td>\n      <td>16</td>\n      <td>9</td>\n      <td>1</td>\n      <td>19</td>\n      <td>17</td>\n      <td>15</td>\n      <td>7</td>\n      <td>0</td>\n      <td>10</td>\n      <td>4</td>\n      <td>3</td>\n      <td>14</td>\n      <td>13</td>\n      <td>12</td>\n      <td>11</td>\n    </tr>\n    <tr>\n      <th>10</th>\n      <td>11</td>\n      <td>2</td>\n      <td>13</td>\n      <td>7</td>\n      <td>18</td>\n      <td>8</td>\n      <td>9</td>\n      <td>1</td>\n      <td>14</td>\n      <td>12</td>\n      <td>4</td>\n      <td>17</td>\n      <td>10</td>\n      <td>15</td>\n      <td>16</td>\n      <td>6</td>\n      <td>0</td>\n      <td>3</td>\n      <td>19</td>\n      <td>5</td>\n    </tr>\n    <tr>\n      <th>11</th>\n      <td>16</td>\n      <td>3</td>\n      <td>6</td>\n      <td>18</td>\n      <td>11</td>\n      <td>8</td>\n      <td>17</td>\n      <td>15</td>\n      <td>13</td>\n      <td>10</td>\n      <td>5</td>\n      <td>2</td>\n      <td>1</td>\n      <td>7</td>\n      <td>12</td>\n      <td>19</td>\n      <td>4</td>\n      <td>9</td>\n      <td>0</td>\n      <td>14</td>\n    </tr>\n    <tr>\n      <th>12</th>\n      <td>12</td>\n      <td>4</td>\n      <td>0</td>\n      <td>8</td>\n      <td>13</td>\n      <td>10</td>\n      <td>9</td>\n      <td>6</td>\n      <td>17</td>\n      <td>3</td>\n      <td>1</td>\n      <td>14</td>\n      <td>16</td>\n      <td>15</td>\n      <td>5</td>\n      <td>19</td>\n      <td>18</td>\n      <td>11</td>\n      <td>7</td>\n      <td>2</td>\n    </tr>\n    <tr>\n      <th>13</th>\n      <td>12</td>\n      <td>10</td>\n      <td>17</td>\n      <td>2</td>\n      <td>6</td>\n      <td>16</td>\n      <td>3</td>\n      <td>15</td>\n      <td>9</td>\n      <td>13</td>\n      <td>4</td>\n      <td>1</td>\n      <td>19</td>\n      <td>14</td>\n      <td>11</td>\n      <td>0</td>\n      <td>8</td>\n      <td>18</td>\n      <td>7</td>\n      <td>5</td>\n    </tr>\n    <tr>\n      <th>14</th>\n      <td>19</td>\n      <td>16</td>\n      <td>10</td>\n      <td>7</td>\n      <td>8</td>\n      <td>14</td>\n      <td>15</td>\n      <td>1</td>\n      <td>6</td>\n      <td>13</td>\n      <td>5</td>\n      <td>12</td>\n      <td>4</td>\n      <td>11</td>\n      <td>17</td>\n      <td>3</td>\n      <td>18</td>\n      <td>0</td>\n      <td>2</td>\n      <td>9</td>\n    </tr>\n    <tr>\n      <th>15</th>\n      <td>12</td>\n      <td>4</td>\n      <td>13</td>\n      <td>17</td>\n      <td>10</td>\n      <td>9</td>\n      <td>0</td>\n      <td>15</td>\n      <td>2</td>\n      <td>19</td>\n      <td>16</td>\n      <td>1</td>\n      <td>7</td>\n      <td>5</td>\n      <td>11</td>\n      <td>8</td>\n      <td>6</td>\n      <td>14</td>\n      <td>3</td>\n      <td>18</td>\n    </tr>\n    <tr>\n      <th>16</th>\n      <td>15</td>\n      <td>8</td>\n      <td>3</td>\n      <td>12</td>\n      <td>1</td>\n      <td>14</td>\n      <td>10</td>\n      <td>11</td>\n      <td>17</td>\n      <td>16</td>\n      <td>9</td>\n      <td>4</td>\n      <td>5</td>\n      <td>6</td>\n      <td>0</td>\n      <td>7</td>\n      <td>19</td>\n      <td>13</td>\n      <td>2</td>\n      <td>18</td>\n    </tr>\n    <tr>\n      <th>17</th>\n      <td>11</td>\n      <td>3</td>\n      <td>12</td>\n      <td>7</td>\n      <td>1</td>\n      <td>2</td>\n      <td>9</td>\n      <td>14</td>\n      <td>4</td>\n      <td>17</td>\n      <td>6</td>\n      <td>19</td>\n      <td>8</td>\n      <td>10</td>\n      <td>16</td>\n      <td>18</td>\n      <td>0</td>\n      <td>5</td>\n      <td>13</td>\n      <td>15</td>\n    </tr>\n    <tr>\n      <th>18</th>\n      <td>2</td>\n      <td>9</td>\n      <td>18</td>\n      <td>15</td>\n      <td>0</td>\n      <td>6</td>\n      <td>16</td>\n      <td>13</td>\n      <td>12</td>\n      <td>4</td>\n      <td>19</td>\n      <td>10</td>\n      <td>11</td>\n      <td>1</td>\n      <td>7</td>\n      <td>17</td>\n      <td>3</td>\n      <td>8</td>\n      <td>5</td>\n      <td>14</td>\n    </tr>\n  </tbody>\n</table>\n</div>"
     },
     "execution_count": 3,
     "metadata": {},
     "output_type": "execute_result"
    }
   ],
   "source": [
    "df_table"
   ]
  },
  {
   "cell_type": "code",
   "execution_count": 4,
   "id": "655fcc68",
   "metadata": {
    "ExecuteTime": {
     "end_time": "2023-10-18T18:18:46.920560582Z",
     "start_time": "2023-10-18T18:18:46.905278089Z"
    }
   },
   "outputs": [],
   "source": [
    "df_probabilites = pd.read_csv(r'./prob_04.csv')"
   ]
  },
  {
   "cell_type": "code",
   "execution_count": 5,
   "id": "97351fa0",
   "metadata": {
    "ExecuteTime": {
     "end_time": "2023-10-18T18:18:47.149901168Z",
     "start_time": "2023-10-18T18:18:46.925945473Z"
    }
   },
   "outputs": [
    {
     "data": {
      "text/plain": "   0.09  0.09.1  0.09.2  0.09.3  0.04  0.04.1  0.04.2  0.04.3  0.04.4  0.04.5  \\\n0  0.05    0.05    0.05    0.05  0.05    0.05    0.05    0.05    0.05    0.05   \n\n   0.04.6  0.04.7  0.04.8  0.04.9  0.04.10  0.04.11  0.04.12  0.04.13  \\\n0    0.05    0.05    0.05    0.05     0.05     0.05     0.05     0.05   \n\n   0.04.14  0.04.15  \n0     0.05     0.05  ",
      "text/html": "<div>\n<style scoped>\n    .dataframe tbody tr th:only-of-type {\n        vertical-align: middle;\n    }\n\n    .dataframe tbody tr th {\n        vertical-align: top;\n    }\n\n    .dataframe thead th {\n        text-align: right;\n    }\n</style>\n<table border=\"1\" class=\"dataframe\">\n  <thead>\n    <tr style=\"text-align: right;\">\n      <th></th>\n      <th>0.09</th>\n      <th>0.09.1</th>\n      <th>0.09.2</th>\n      <th>0.09.3</th>\n      <th>0.04</th>\n      <th>0.04.1</th>\n      <th>0.04.2</th>\n      <th>0.04.3</th>\n      <th>0.04.4</th>\n      <th>0.04.5</th>\n      <th>0.04.6</th>\n      <th>0.04.7</th>\n      <th>0.04.8</th>\n      <th>0.04.9</th>\n      <th>0.04.10</th>\n      <th>0.04.11</th>\n      <th>0.04.12</th>\n      <th>0.04.13</th>\n      <th>0.04.14</th>\n      <th>0.04.15</th>\n    </tr>\n  </thead>\n  <tbody>\n    <tr>\n      <th>0</th>\n      <td>0.05</td>\n      <td>0.05</td>\n      <td>0.05</td>\n      <td>0.05</td>\n      <td>0.05</td>\n      <td>0.05</td>\n      <td>0.05</td>\n      <td>0.05</td>\n      <td>0.05</td>\n      <td>0.05</td>\n      <td>0.05</td>\n      <td>0.05</td>\n      <td>0.05</td>\n      <td>0.05</td>\n      <td>0.05</td>\n      <td>0.05</td>\n      <td>0.05</td>\n      <td>0.05</td>\n      <td>0.05</td>\n      <td>0.05</td>\n    </tr>\n  </tbody>\n</table>\n</div>"
     },
     "execution_count": 5,
     "metadata": {},
     "output_type": "execute_result"
    }
   ],
   "source": [
    "df_probabilites.head()"
   ]
  },
  {
   "cell_type": "markdown",
   "id": "269618d3",
   "metadata": {},
   "source": [
    "Як бачимо, маємо деякі проблеми з форматом даних. Тож задамо до обоїх датасетів відповідні виправлені списки:"
   ]
  },
  {
   "cell_type": "code",
   "execution_count": 6,
   "id": "7947aef6",
   "metadata": {
    "ExecuteTime": {
     "end_time": "2023-10-18T18:18:47.150240085Z",
     "start_time": "2023-10-18T18:18:46.970935392Z"
    }
   },
   "outputs": [],
   "source": [
    "distribution_messages = [0.09,\n",
    " 0.091,\n",
    " 0.092,\n",
    " 0.093,\n",
    " 0.04,\n",
    " 0.041,\n",
    " 0.042,\n",
    " 0.043,\n",
    " 0.044,\n",
    " 0.045,\n",
    " 0.046,\n",
    " 0.047,\n",
    " 0.048,\n",
    " 0.049,\n",
    " 0.0410,\n",
    " 0.0411,\n",
    " 0.0412,\n",
    " 0.0413,\n",
    " 0.0414,\n",
    " 0.0415]"
   ]
  },
  {
   "cell_type": "code",
   "execution_count": 7,
   "id": "4d0e4432",
   "metadata": {
    "ExecuteTime": {
     "end_time": "2023-10-18T18:18:47.150463782Z",
     "start_time": "2023-10-18T18:18:46.971138018Z"
    }
   },
   "outputs": [],
   "source": [
    "distribution_keys = [0.05 for _ in range(length_table)]"
   ]
  },
  {
   "cell_type": "code",
   "execution_count": 8,
   "id": "76b9f4c3",
   "metadata": {
    "scrolled": true,
    "ExecuteTime": {
     "end_time": "2023-10-18T18:18:47.152059437Z",
     "start_time": "2023-10-18T18:18:46.971289949Z"
    }
   },
   "outputs": [
    {
     "data": {
      "text/plain": "    0   1   2   3   4   5   6   7   8   9   10  11  12  13  14  15  16  17  \\\n0    3  11  17  19  12   6   2  15  13  14   1  18   5   0  16   8  10   7   \n1   17   5   6  15  12  10   8  16   4   0   7   2   3  18  11   1  13  19   \n2   13  15   8   6   7  11  18   2  10  14  17   4   1  19  12  16   3   0   \n3   15   7  10  19   5   0  14   3  11   6  12   9  17  18   2  13   4  16   \n4    9   4   1   7   6   2  14   0  13   8   5   3  19  18  11  12  10  16   \n5   17   2  16   7  15   6   1  18  10   3   9   4  19   5  11  12  14   8   \n6   13  10  19   4  18   2   7   9  15  16   3   1  17  11   6  12   8   0   \n7   11   4   1  16   9  13  19   8  18   5  15  10   3   7   0  17  14   2   \n8   16  19   6  10   0  15   7  13   4   2  14   3  17   5  18  11   1   9   \n9    1  12  14  15   2  19   0   3   7   6   8  18   4  11  10   5   9  13   \n10   8   2   6   5  18  16   9   1  19  17  15   7   0  10   4   3  14  13   \n11  11   2  13   7  18   8   9   1  14  12   4  17  10  15  16   6   0   3   \n12  16   3   6  18  11   8  17  15  13  10   5   2   1   7  12  19   4   9   \n13  12   4   0   8  13  10   9   6  17   3   1  14  16  15   5  19  18  11   \n14  12  10  17   2   6  16   3  15   9  13   4   1  19  14  11   0   8  18   \n15  19  16  10   7   8  14  15   1   6  13   5  12   4  11  17   3  18   0   \n16  12   4  13  17  10   9   0  15   2  19  16   1   7   5  11   8   6  14   \n17  15   8   3  12   1  14  10  11  17  16   9   4   5   6   0   7  19  13   \n18  11   3  12   7   1   2   9  14   4  17   6  19   8  10  16  18   0   5   \n19   2   9  18  15   0   6  16  13  12   4  19  10  11   1   7  17   3   8   \n\n    18  19  \n0    4   9  \n1    9  14  \n2    5   9  \n3    1   8  \n4   15  17  \n5   13   0  \n6    5  14  \n7    6  12  \n8    8  12  \n9   16  17  \n10  12  11  \n11  19   5  \n12   0  14  \n13   7   2  \n14   7   5  \n15   2   9  \n16   3  18  \n17   2  18  \n18  13  15  \n19   5  14  ",
      "text/html": "<div>\n<style scoped>\n    .dataframe tbody tr th:only-of-type {\n        vertical-align: middle;\n    }\n\n    .dataframe tbody tr th {\n        vertical-align: top;\n    }\n\n    .dataframe thead th {\n        text-align: right;\n    }\n</style>\n<table border=\"1\" class=\"dataframe\">\n  <thead>\n    <tr style=\"text-align: right;\">\n      <th></th>\n      <th>0</th>\n      <th>1</th>\n      <th>2</th>\n      <th>3</th>\n      <th>4</th>\n      <th>5</th>\n      <th>6</th>\n      <th>7</th>\n      <th>8</th>\n      <th>9</th>\n      <th>10</th>\n      <th>11</th>\n      <th>12</th>\n      <th>13</th>\n      <th>14</th>\n      <th>15</th>\n      <th>16</th>\n      <th>17</th>\n      <th>18</th>\n      <th>19</th>\n    </tr>\n  </thead>\n  <tbody>\n    <tr>\n      <th>0</th>\n      <td>3</td>\n      <td>11</td>\n      <td>17</td>\n      <td>19</td>\n      <td>12</td>\n      <td>6</td>\n      <td>2</td>\n      <td>15</td>\n      <td>13</td>\n      <td>14</td>\n      <td>1</td>\n      <td>18</td>\n      <td>5</td>\n      <td>0</td>\n      <td>16</td>\n      <td>8</td>\n      <td>10</td>\n      <td>7</td>\n      <td>4</td>\n      <td>9</td>\n    </tr>\n    <tr>\n      <th>1</th>\n      <td>17</td>\n      <td>5</td>\n      <td>6</td>\n      <td>15</td>\n      <td>12</td>\n      <td>10</td>\n      <td>8</td>\n      <td>16</td>\n      <td>4</td>\n      <td>0</td>\n      <td>7</td>\n      <td>2</td>\n      <td>3</td>\n      <td>18</td>\n      <td>11</td>\n      <td>1</td>\n      <td>13</td>\n      <td>19</td>\n      <td>9</td>\n      <td>14</td>\n    </tr>\n    <tr>\n      <th>2</th>\n      <td>13</td>\n      <td>15</td>\n      <td>8</td>\n      <td>6</td>\n      <td>7</td>\n      <td>11</td>\n      <td>18</td>\n      <td>2</td>\n      <td>10</td>\n      <td>14</td>\n      <td>17</td>\n      <td>4</td>\n      <td>1</td>\n      <td>19</td>\n      <td>12</td>\n      <td>16</td>\n      <td>3</td>\n      <td>0</td>\n      <td>5</td>\n      <td>9</td>\n    </tr>\n    <tr>\n      <th>3</th>\n      <td>15</td>\n      <td>7</td>\n      <td>10</td>\n      <td>19</td>\n      <td>5</td>\n      <td>0</td>\n      <td>14</td>\n      <td>3</td>\n      <td>11</td>\n      <td>6</td>\n      <td>12</td>\n      <td>9</td>\n      <td>17</td>\n      <td>18</td>\n      <td>2</td>\n      <td>13</td>\n      <td>4</td>\n      <td>16</td>\n      <td>1</td>\n      <td>8</td>\n    </tr>\n    <tr>\n      <th>4</th>\n      <td>9</td>\n      <td>4</td>\n      <td>1</td>\n      <td>7</td>\n      <td>6</td>\n      <td>2</td>\n      <td>14</td>\n      <td>0</td>\n      <td>13</td>\n      <td>8</td>\n      <td>5</td>\n      <td>3</td>\n      <td>19</td>\n      <td>18</td>\n      <td>11</td>\n      <td>12</td>\n      <td>10</td>\n      <td>16</td>\n      <td>15</td>\n      <td>17</td>\n    </tr>\n    <tr>\n      <th>5</th>\n      <td>17</td>\n      <td>2</td>\n      <td>16</td>\n      <td>7</td>\n      <td>15</td>\n      <td>6</td>\n      <td>1</td>\n      <td>18</td>\n      <td>10</td>\n      <td>3</td>\n      <td>9</td>\n      <td>4</td>\n      <td>19</td>\n      <td>5</td>\n      <td>11</td>\n      <td>12</td>\n      <td>14</td>\n      <td>8</td>\n      <td>13</td>\n      <td>0</td>\n    </tr>\n    <tr>\n      <th>6</th>\n      <td>13</td>\n      <td>10</td>\n      <td>19</td>\n      <td>4</td>\n      <td>18</td>\n      <td>2</td>\n      <td>7</td>\n      <td>9</td>\n      <td>15</td>\n      <td>16</td>\n      <td>3</td>\n      <td>1</td>\n      <td>17</td>\n      <td>11</td>\n      <td>6</td>\n      <td>12</td>\n      <td>8</td>\n      <td>0</td>\n      <td>5</td>\n      <td>14</td>\n    </tr>\n    <tr>\n      <th>7</th>\n      <td>11</td>\n      <td>4</td>\n      <td>1</td>\n      <td>16</td>\n      <td>9</td>\n      <td>13</td>\n      <td>19</td>\n      <td>8</td>\n      <td>18</td>\n      <td>5</td>\n      <td>15</td>\n      <td>10</td>\n      <td>3</td>\n      <td>7</td>\n      <td>0</td>\n      <td>17</td>\n      <td>14</td>\n      <td>2</td>\n      <td>6</td>\n      <td>12</td>\n    </tr>\n    <tr>\n      <th>8</th>\n      <td>16</td>\n      <td>19</td>\n      <td>6</td>\n      <td>10</td>\n      <td>0</td>\n      <td>15</td>\n      <td>7</td>\n      <td>13</td>\n      <td>4</td>\n      <td>2</td>\n      <td>14</td>\n      <td>3</td>\n      <td>17</td>\n      <td>5</td>\n      <td>18</td>\n      <td>11</td>\n      <td>1</td>\n      <td>9</td>\n      <td>8</td>\n      <td>12</td>\n    </tr>\n    <tr>\n      <th>9</th>\n      <td>1</td>\n      <td>12</td>\n      <td>14</td>\n      <td>15</td>\n      <td>2</td>\n      <td>19</td>\n      <td>0</td>\n      <td>3</td>\n      <td>7</td>\n      <td>6</td>\n      <td>8</td>\n      <td>18</td>\n      <td>4</td>\n      <td>11</td>\n      <td>10</td>\n      <td>5</td>\n      <td>9</td>\n      <td>13</td>\n      <td>16</td>\n      <td>17</td>\n    </tr>\n    <tr>\n      <th>10</th>\n      <td>8</td>\n      <td>2</td>\n      <td>6</td>\n      <td>5</td>\n      <td>18</td>\n      <td>16</td>\n      <td>9</td>\n      <td>1</td>\n      <td>19</td>\n      <td>17</td>\n      <td>15</td>\n      <td>7</td>\n      <td>0</td>\n      <td>10</td>\n      <td>4</td>\n      <td>3</td>\n      <td>14</td>\n      <td>13</td>\n      <td>12</td>\n      <td>11</td>\n    </tr>\n    <tr>\n      <th>11</th>\n      <td>11</td>\n      <td>2</td>\n      <td>13</td>\n      <td>7</td>\n      <td>18</td>\n      <td>8</td>\n      <td>9</td>\n      <td>1</td>\n      <td>14</td>\n      <td>12</td>\n      <td>4</td>\n      <td>17</td>\n      <td>10</td>\n      <td>15</td>\n      <td>16</td>\n      <td>6</td>\n      <td>0</td>\n      <td>3</td>\n      <td>19</td>\n      <td>5</td>\n    </tr>\n    <tr>\n      <th>12</th>\n      <td>16</td>\n      <td>3</td>\n      <td>6</td>\n      <td>18</td>\n      <td>11</td>\n      <td>8</td>\n      <td>17</td>\n      <td>15</td>\n      <td>13</td>\n      <td>10</td>\n      <td>5</td>\n      <td>2</td>\n      <td>1</td>\n      <td>7</td>\n      <td>12</td>\n      <td>19</td>\n      <td>4</td>\n      <td>9</td>\n      <td>0</td>\n      <td>14</td>\n    </tr>\n    <tr>\n      <th>13</th>\n      <td>12</td>\n      <td>4</td>\n      <td>0</td>\n      <td>8</td>\n      <td>13</td>\n      <td>10</td>\n      <td>9</td>\n      <td>6</td>\n      <td>17</td>\n      <td>3</td>\n      <td>1</td>\n      <td>14</td>\n      <td>16</td>\n      <td>15</td>\n      <td>5</td>\n      <td>19</td>\n      <td>18</td>\n      <td>11</td>\n      <td>7</td>\n      <td>2</td>\n    </tr>\n    <tr>\n      <th>14</th>\n      <td>12</td>\n      <td>10</td>\n      <td>17</td>\n      <td>2</td>\n      <td>6</td>\n      <td>16</td>\n      <td>3</td>\n      <td>15</td>\n      <td>9</td>\n      <td>13</td>\n      <td>4</td>\n      <td>1</td>\n      <td>19</td>\n      <td>14</td>\n      <td>11</td>\n      <td>0</td>\n      <td>8</td>\n      <td>18</td>\n      <td>7</td>\n      <td>5</td>\n    </tr>\n    <tr>\n      <th>15</th>\n      <td>19</td>\n      <td>16</td>\n      <td>10</td>\n      <td>7</td>\n      <td>8</td>\n      <td>14</td>\n      <td>15</td>\n      <td>1</td>\n      <td>6</td>\n      <td>13</td>\n      <td>5</td>\n      <td>12</td>\n      <td>4</td>\n      <td>11</td>\n      <td>17</td>\n      <td>3</td>\n      <td>18</td>\n      <td>0</td>\n      <td>2</td>\n      <td>9</td>\n    </tr>\n    <tr>\n      <th>16</th>\n      <td>12</td>\n      <td>4</td>\n      <td>13</td>\n      <td>17</td>\n      <td>10</td>\n      <td>9</td>\n      <td>0</td>\n      <td>15</td>\n      <td>2</td>\n      <td>19</td>\n      <td>16</td>\n      <td>1</td>\n      <td>7</td>\n      <td>5</td>\n      <td>11</td>\n      <td>8</td>\n      <td>6</td>\n      <td>14</td>\n      <td>3</td>\n      <td>18</td>\n    </tr>\n    <tr>\n      <th>17</th>\n      <td>15</td>\n      <td>8</td>\n      <td>3</td>\n      <td>12</td>\n      <td>1</td>\n      <td>14</td>\n      <td>10</td>\n      <td>11</td>\n      <td>17</td>\n      <td>16</td>\n      <td>9</td>\n      <td>4</td>\n      <td>5</td>\n      <td>6</td>\n      <td>0</td>\n      <td>7</td>\n      <td>19</td>\n      <td>13</td>\n      <td>2</td>\n      <td>18</td>\n    </tr>\n    <tr>\n      <th>18</th>\n      <td>11</td>\n      <td>3</td>\n      <td>12</td>\n      <td>7</td>\n      <td>1</td>\n      <td>2</td>\n      <td>9</td>\n      <td>14</td>\n      <td>4</td>\n      <td>17</td>\n      <td>6</td>\n      <td>19</td>\n      <td>8</td>\n      <td>10</td>\n      <td>16</td>\n      <td>18</td>\n      <td>0</td>\n      <td>5</td>\n      <td>13</td>\n      <td>15</td>\n    </tr>\n    <tr>\n      <th>19</th>\n      <td>2</td>\n      <td>9</td>\n      <td>18</td>\n      <td>15</td>\n      <td>0</td>\n      <td>6</td>\n      <td>16</td>\n      <td>13</td>\n      <td>12</td>\n      <td>4</td>\n      <td>19</td>\n      <td>10</td>\n      <td>11</td>\n      <td>1</td>\n      <td>7</td>\n      <td>17</td>\n      <td>3</td>\n      <td>8</td>\n      <td>5</td>\n      <td>14</td>\n    </tr>\n  </tbody>\n</table>\n</div>"
     },
     "execution_count": 8,
     "metadata": {},
     "output_type": "execute_result"
    }
   ],
   "source": [
    "matrix = df_table.values\n",
    "missing_row = np.array([3, 11, 17, 19, 12, 6, 2, 15, 13, 14, 1, 18, 5, 0, 16, 8, 10, 7, 4, 9])\n",
    "encryption_table = np.vstack((missing_row, matrix))\n",
    "pd.DataFrame(encryption_table)\n"
   ]
  },
  {
   "cell_type": "code",
   "execution_count": 9,
   "id": "d32ad9bf",
   "metadata": {
    "ExecuteTime": {
     "end_time": "2023-10-18T18:18:47.291093472Z",
     "start_time": "2023-10-18T18:18:46.972221087Z"
    }
   },
   "outputs": [
    {
     "data": {
      "text/plain": "          0         1         2         3         4         5         6   \\\n0    (0, 13)   (0, 10)    (0, 6)    (0, 0)   (0, 18)   (0, 12)    (0, 5)   \n1     (1, 9)   (1, 15)   (1, 11)   (1, 12)    (1, 8)    (1, 1)    (1, 2)   \n2    (2, 17)   (2, 12)    (2, 7)   (2, 16)   (2, 11)   (2, 18)    (2, 3)   \n3     (3, 5)   (3, 18)   (3, 14)    (3, 7)   (3, 16)    (3, 4)    (3, 9)   \n4     (4, 7)    (4, 2)    (4, 5)   (4, 11)    (4, 1)   (4, 10)    (4, 4)   \n5    (5, 19)    (5, 6)    (5, 1)    (5, 9)   (5, 11)   (5, 13)    (5, 5)   \n6    (6, 17)   (6, 11)    (6, 5)   (6, 10)    (6, 3)   (6, 18)   (6, 14)   \n7    (7, 14)    (7, 2)   (7, 17)   (7, 12)    (7, 1)    (7, 9)   (7, 18)   \n8     (8, 4)   (8, 16)    (8, 9)   (8, 11)    (8, 8)   (8, 13)    (8, 2)   \n9     (9, 6)    (9, 0)    (9, 4)    (9, 7)   (9, 12)   (9, 15)    (9, 9)   \n10  (10, 12)   (10, 7)   (10, 1)  (10, 15)  (10, 14)   (10, 3)   (10, 2)   \n11  (11, 16)   (11, 7)   (11, 1)  (11, 17)  (11, 10)  (11, 19)  (11, 15)   \n12  (12, 18)  (12, 12)  (12, 11)   (12, 1)  (12, 16)  (12, 10)   (12, 2)   \n13   (13, 2)  (13, 10)  (13, 19)   (13, 9)   (13, 1)  (13, 14)   (13, 7)   \n14  (14, 15)  (14, 11)   (14, 3)   (14, 6)  (14, 10)  (14, 19)   (14, 4)   \n15  (15, 17)   (15, 7)  (15, 18)  (15, 15)  (15, 12)  (15, 10)   (15, 8)   \n16   (16, 6)  (16, 11)   (16, 8)  (16, 18)   (16, 1)  (16, 13)  (16, 16)   \n17  (17, 14)   (17, 4)  (17, 18)   (17, 2)  (17, 11)  (17, 12)  (17, 13)   \n18  (18, 16)   (18, 4)   (18, 5)   (18, 1)   (18, 8)  (18, 17)  (18, 10)   \n19   (19, 4)  (19, 13)   (19, 0)  (19, 16)   (19, 9)  (19, 18)   (19, 5)   \n\n          7         8         9         10        11        12        13  \\\n0    (0, 17)   (0, 15)   (0, 19)   (0, 16)    (0, 1)    (0, 4)    (0, 8)   \n1    (1, 10)    (1, 6)   (1, 18)    (1, 5)   (1, 14)    (1, 4)   (1, 16)   \n2     (2, 4)    (2, 2)   (2, 19)    (2, 8)    (2, 5)   (2, 14)    (2, 0)   \n3     (3, 1)   (3, 19)   (3, 11)    (3, 2)    (3, 8)   (3, 10)   (3, 15)   \n4     (4, 3)    (4, 9)    (4, 0)   (4, 16)   (4, 14)   (4, 15)    (4, 8)   \n5     (5, 3)   (5, 17)   (5, 10)    (5, 8)   (5, 14)   (5, 15)   (5, 18)   \n6     (6, 6)   (6, 16)    (6, 7)    (6, 1)   (6, 13)   (6, 15)    (6, 0)   \n7    (7, 13)    (7, 7)    (7, 4)   (7, 11)    (7, 0)   (7, 19)    (7, 5)   \n8     (8, 6)   (8, 18)   (8, 17)    (8, 3)   (8, 15)   (8, 19)    (8, 7)   \n9     (9, 8)   (9, 10)   (9, 16)   (9, 14)   (9, 13)    (9, 1)   (9, 17)   \n10  (10, 11)   (10, 0)   (10, 6)  (10, 13)  (10, 19)  (10, 18)  (10, 17)   \n11   (11, 3)   (11, 5)   (11, 6)  (11, 12)   (11, 0)   (11, 9)   (11, 2)   \n12  (12, 13)   (12, 5)  (12, 17)   (12, 9)   (12, 4)  (12, 14)   (12, 8)   \n13  (13, 18)   (13, 3)   (13, 6)   (13, 5)  (13, 17)   (13, 0)   (13, 4)   \n14  (14, 18)  (14, 16)   (14, 8)   (14, 1)  (14, 14)   (14, 0)   (14, 9)   \n15   (15, 3)   (15, 4)  (15, 19)   (15, 2)  (15, 13)  (15, 11)   (15, 9)   \n16  (16, 12)  (16, 15)   (16, 5)   (16, 4)  (16, 14)   (16, 0)   (16, 2)   \n17  (17, 15)   (17, 1)  (17, 10)   (17, 6)   (17, 7)   (17, 3)  (17, 17)   \n18   (18, 3)  (18, 12)   (18, 6)  (18, 13)   (18, 0)   (18, 2)  (18, 18)   \n19  (19, 14)  (19, 17)   (19, 1)  (19, 11)  (19, 12)   (19, 8)   (19, 7)   \n\n          14        15        16        17        18        19  \n0     (0, 9)    (0, 7)   (0, 14)    (0, 2)   (0, 11)    (0, 3)  \n1    (1, 19)    (1, 3)    (1, 7)    (1, 0)   (1, 13)   (1, 17)  \n2     (2, 9)    (2, 1)   (2, 15)   (2, 10)    (2, 6)   (2, 13)  \n3     (3, 6)    (3, 0)   (3, 17)   (3, 12)   (3, 13)    (3, 3)  \n4     (4, 6)   (4, 18)   (4, 17)   (4, 19)   (4, 13)   (4, 12)  \n5    (5, 16)    (5, 4)    (5, 2)    (5, 0)    (5, 7)   (5, 12)  \n6    (6, 19)    (6, 8)    (6, 9)   (6, 12)    (6, 4)    (6, 2)  \n7    (7, 16)   (7, 10)    (7, 3)   (7, 15)    (7, 8)    (7, 6)  \n8    (8, 10)    (8, 5)    (8, 0)   (8, 12)   (8, 14)    (8, 1)  \n9     (9, 2)    (9, 3)   (9, 18)   (9, 19)   (9, 11)    (9, 5)  \n10  (10, 16)  (10, 10)   (10, 5)   (10, 9)   (10, 4)   (10, 8)  \n11   (11, 8)  (11, 13)  (11, 14)  (11, 11)   (11, 4)  (11, 18)  \n12  (12, 19)   (12, 7)   (12, 0)   (12, 6)   (12, 3)  (12, 15)  \n13  (13, 11)  (13, 13)  (13, 12)   (13, 8)  (13, 16)  (13, 15)  \n14  (14, 13)   (14, 7)   (14, 5)   (14, 2)  (14, 17)  (14, 12)  \n15   (15, 5)   (15, 6)   (15, 1)  (15, 14)  (15, 16)   (15, 0)  \n16  (16, 17)   (16, 7)  (16, 10)   (16, 3)  (16, 19)   (16, 9)  \n17   (17, 5)   (17, 0)   (17, 9)   (17, 8)  (17, 19)  (17, 16)  \n18   (18, 7)  (18, 19)  (18, 14)   (18, 9)  (18, 15)  (18, 11)  \n19  (19, 19)   (19, 3)   (19, 6)  (19, 15)   (19, 2)  (19, 10)  ",
      "text/html": "<div>\n<style scoped>\n    .dataframe tbody tr th:only-of-type {\n        vertical-align: middle;\n    }\n\n    .dataframe tbody tr th {\n        vertical-align: top;\n    }\n\n    .dataframe thead th {\n        text-align: right;\n    }\n</style>\n<table border=\"1\" class=\"dataframe\">\n  <thead>\n    <tr style=\"text-align: right;\">\n      <th></th>\n      <th>0</th>\n      <th>1</th>\n      <th>2</th>\n      <th>3</th>\n      <th>4</th>\n      <th>5</th>\n      <th>6</th>\n      <th>7</th>\n      <th>8</th>\n      <th>9</th>\n      <th>10</th>\n      <th>11</th>\n      <th>12</th>\n      <th>13</th>\n      <th>14</th>\n      <th>15</th>\n      <th>16</th>\n      <th>17</th>\n      <th>18</th>\n      <th>19</th>\n    </tr>\n  </thead>\n  <tbody>\n    <tr>\n      <th>0</th>\n      <td>(0, 13)</td>\n      <td>(0, 10)</td>\n      <td>(0, 6)</td>\n      <td>(0, 0)</td>\n      <td>(0, 18)</td>\n      <td>(0, 12)</td>\n      <td>(0, 5)</td>\n      <td>(0, 17)</td>\n      <td>(0, 15)</td>\n      <td>(0, 19)</td>\n      <td>(0, 16)</td>\n      <td>(0, 1)</td>\n      <td>(0, 4)</td>\n      <td>(0, 8)</td>\n      <td>(0, 9)</td>\n      <td>(0, 7)</td>\n      <td>(0, 14)</td>\n      <td>(0, 2)</td>\n      <td>(0, 11)</td>\n      <td>(0, 3)</td>\n    </tr>\n    <tr>\n      <th>1</th>\n      <td>(1, 9)</td>\n      <td>(1, 15)</td>\n      <td>(1, 11)</td>\n      <td>(1, 12)</td>\n      <td>(1, 8)</td>\n      <td>(1, 1)</td>\n      <td>(1, 2)</td>\n      <td>(1, 10)</td>\n      <td>(1, 6)</td>\n      <td>(1, 18)</td>\n      <td>(1, 5)</td>\n      <td>(1, 14)</td>\n      <td>(1, 4)</td>\n      <td>(1, 16)</td>\n      <td>(1, 19)</td>\n      <td>(1, 3)</td>\n      <td>(1, 7)</td>\n      <td>(1, 0)</td>\n      <td>(1, 13)</td>\n      <td>(1, 17)</td>\n    </tr>\n    <tr>\n      <th>2</th>\n      <td>(2, 17)</td>\n      <td>(2, 12)</td>\n      <td>(2, 7)</td>\n      <td>(2, 16)</td>\n      <td>(2, 11)</td>\n      <td>(2, 18)</td>\n      <td>(2, 3)</td>\n      <td>(2, 4)</td>\n      <td>(2, 2)</td>\n      <td>(2, 19)</td>\n      <td>(2, 8)</td>\n      <td>(2, 5)</td>\n      <td>(2, 14)</td>\n      <td>(2, 0)</td>\n      <td>(2, 9)</td>\n      <td>(2, 1)</td>\n      <td>(2, 15)</td>\n      <td>(2, 10)</td>\n      <td>(2, 6)</td>\n      <td>(2, 13)</td>\n    </tr>\n    <tr>\n      <th>3</th>\n      <td>(3, 5)</td>\n      <td>(3, 18)</td>\n      <td>(3, 14)</td>\n      <td>(3, 7)</td>\n      <td>(3, 16)</td>\n      <td>(3, 4)</td>\n      <td>(3, 9)</td>\n      <td>(3, 1)</td>\n      <td>(3, 19)</td>\n      <td>(3, 11)</td>\n      <td>(3, 2)</td>\n      <td>(3, 8)</td>\n      <td>(3, 10)</td>\n      <td>(3, 15)</td>\n      <td>(3, 6)</td>\n      <td>(3, 0)</td>\n      <td>(3, 17)</td>\n      <td>(3, 12)</td>\n      <td>(3, 13)</td>\n      <td>(3, 3)</td>\n    </tr>\n    <tr>\n      <th>4</th>\n      <td>(4, 7)</td>\n      <td>(4, 2)</td>\n      <td>(4, 5)</td>\n      <td>(4, 11)</td>\n      <td>(4, 1)</td>\n      <td>(4, 10)</td>\n      <td>(4, 4)</td>\n      <td>(4, 3)</td>\n      <td>(4, 9)</td>\n      <td>(4, 0)</td>\n      <td>(4, 16)</td>\n      <td>(4, 14)</td>\n      <td>(4, 15)</td>\n      <td>(4, 8)</td>\n      <td>(4, 6)</td>\n      <td>(4, 18)</td>\n      <td>(4, 17)</td>\n      <td>(4, 19)</td>\n      <td>(4, 13)</td>\n      <td>(4, 12)</td>\n    </tr>\n    <tr>\n      <th>5</th>\n      <td>(5, 19)</td>\n      <td>(5, 6)</td>\n      <td>(5, 1)</td>\n      <td>(5, 9)</td>\n      <td>(5, 11)</td>\n      <td>(5, 13)</td>\n      <td>(5, 5)</td>\n      <td>(5, 3)</td>\n      <td>(5, 17)</td>\n      <td>(5, 10)</td>\n      <td>(5, 8)</td>\n      <td>(5, 14)</td>\n      <td>(5, 15)</td>\n      <td>(5, 18)</td>\n      <td>(5, 16)</td>\n      <td>(5, 4)</td>\n      <td>(5, 2)</td>\n      <td>(5, 0)</td>\n      <td>(5, 7)</td>\n      <td>(5, 12)</td>\n    </tr>\n    <tr>\n      <th>6</th>\n      <td>(6, 17)</td>\n      <td>(6, 11)</td>\n      <td>(6, 5)</td>\n      <td>(6, 10)</td>\n      <td>(6, 3)</td>\n      <td>(6, 18)</td>\n      <td>(6, 14)</td>\n      <td>(6, 6)</td>\n      <td>(6, 16)</td>\n      <td>(6, 7)</td>\n      <td>(6, 1)</td>\n      <td>(6, 13)</td>\n      <td>(6, 15)</td>\n      <td>(6, 0)</td>\n      <td>(6, 19)</td>\n      <td>(6, 8)</td>\n      <td>(6, 9)</td>\n      <td>(6, 12)</td>\n      <td>(6, 4)</td>\n      <td>(6, 2)</td>\n    </tr>\n    <tr>\n      <th>7</th>\n      <td>(7, 14)</td>\n      <td>(7, 2)</td>\n      <td>(7, 17)</td>\n      <td>(7, 12)</td>\n      <td>(7, 1)</td>\n      <td>(7, 9)</td>\n      <td>(7, 18)</td>\n      <td>(7, 13)</td>\n      <td>(7, 7)</td>\n      <td>(7, 4)</td>\n      <td>(7, 11)</td>\n      <td>(7, 0)</td>\n      <td>(7, 19)</td>\n      <td>(7, 5)</td>\n      <td>(7, 16)</td>\n      <td>(7, 10)</td>\n      <td>(7, 3)</td>\n      <td>(7, 15)</td>\n      <td>(7, 8)</td>\n      <td>(7, 6)</td>\n    </tr>\n    <tr>\n      <th>8</th>\n      <td>(8, 4)</td>\n      <td>(8, 16)</td>\n      <td>(8, 9)</td>\n      <td>(8, 11)</td>\n      <td>(8, 8)</td>\n      <td>(8, 13)</td>\n      <td>(8, 2)</td>\n      <td>(8, 6)</td>\n      <td>(8, 18)</td>\n      <td>(8, 17)</td>\n      <td>(8, 3)</td>\n      <td>(8, 15)</td>\n      <td>(8, 19)</td>\n      <td>(8, 7)</td>\n      <td>(8, 10)</td>\n      <td>(8, 5)</td>\n      <td>(8, 0)</td>\n      <td>(8, 12)</td>\n      <td>(8, 14)</td>\n      <td>(8, 1)</td>\n    </tr>\n    <tr>\n      <th>9</th>\n      <td>(9, 6)</td>\n      <td>(9, 0)</td>\n      <td>(9, 4)</td>\n      <td>(9, 7)</td>\n      <td>(9, 12)</td>\n      <td>(9, 15)</td>\n      <td>(9, 9)</td>\n      <td>(9, 8)</td>\n      <td>(9, 10)</td>\n      <td>(9, 16)</td>\n      <td>(9, 14)</td>\n      <td>(9, 13)</td>\n      <td>(9, 1)</td>\n      <td>(9, 17)</td>\n      <td>(9, 2)</td>\n      <td>(9, 3)</td>\n      <td>(9, 18)</td>\n      <td>(9, 19)</td>\n      <td>(9, 11)</td>\n      <td>(9, 5)</td>\n    </tr>\n    <tr>\n      <th>10</th>\n      <td>(10, 12)</td>\n      <td>(10, 7)</td>\n      <td>(10, 1)</td>\n      <td>(10, 15)</td>\n      <td>(10, 14)</td>\n      <td>(10, 3)</td>\n      <td>(10, 2)</td>\n      <td>(10, 11)</td>\n      <td>(10, 0)</td>\n      <td>(10, 6)</td>\n      <td>(10, 13)</td>\n      <td>(10, 19)</td>\n      <td>(10, 18)</td>\n      <td>(10, 17)</td>\n      <td>(10, 16)</td>\n      <td>(10, 10)</td>\n      <td>(10, 5)</td>\n      <td>(10, 9)</td>\n      <td>(10, 4)</td>\n      <td>(10, 8)</td>\n    </tr>\n    <tr>\n      <th>11</th>\n      <td>(11, 16)</td>\n      <td>(11, 7)</td>\n      <td>(11, 1)</td>\n      <td>(11, 17)</td>\n      <td>(11, 10)</td>\n      <td>(11, 19)</td>\n      <td>(11, 15)</td>\n      <td>(11, 3)</td>\n      <td>(11, 5)</td>\n      <td>(11, 6)</td>\n      <td>(11, 12)</td>\n      <td>(11, 0)</td>\n      <td>(11, 9)</td>\n      <td>(11, 2)</td>\n      <td>(11, 8)</td>\n      <td>(11, 13)</td>\n      <td>(11, 14)</td>\n      <td>(11, 11)</td>\n      <td>(11, 4)</td>\n      <td>(11, 18)</td>\n    </tr>\n    <tr>\n      <th>12</th>\n      <td>(12, 18)</td>\n      <td>(12, 12)</td>\n      <td>(12, 11)</td>\n      <td>(12, 1)</td>\n      <td>(12, 16)</td>\n      <td>(12, 10)</td>\n      <td>(12, 2)</td>\n      <td>(12, 13)</td>\n      <td>(12, 5)</td>\n      <td>(12, 17)</td>\n      <td>(12, 9)</td>\n      <td>(12, 4)</td>\n      <td>(12, 14)</td>\n      <td>(12, 8)</td>\n      <td>(12, 19)</td>\n      <td>(12, 7)</td>\n      <td>(12, 0)</td>\n      <td>(12, 6)</td>\n      <td>(12, 3)</td>\n      <td>(12, 15)</td>\n    </tr>\n    <tr>\n      <th>13</th>\n      <td>(13, 2)</td>\n      <td>(13, 10)</td>\n      <td>(13, 19)</td>\n      <td>(13, 9)</td>\n      <td>(13, 1)</td>\n      <td>(13, 14)</td>\n      <td>(13, 7)</td>\n      <td>(13, 18)</td>\n      <td>(13, 3)</td>\n      <td>(13, 6)</td>\n      <td>(13, 5)</td>\n      <td>(13, 17)</td>\n      <td>(13, 0)</td>\n      <td>(13, 4)</td>\n      <td>(13, 11)</td>\n      <td>(13, 13)</td>\n      <td>(13, 12)</td>\n      <td>(13, 8)</td>\n      <td>(13, 16)</td>\n      <td>(13, 15)</td>\n    </tr>\n    <tr>\n      <th>14</th>\n      <td>(14, 15)</td>\n      <td>(14, 11)</td>\n      <td>(14, 3)</td>\n      <td>(14, 6)</td>\n      <td>(14, 10)</td>\n      <td>(14, 19)</td>\n      <td>(14, 4)</td>\n      <td>(14, 18)</td>\n      <td>(14, 16)</td>\n      <td>(14, 8)</td>\n      <td>(14, 1)</td>\n      <td>(14, 14)</td>\n      <td>(14, 0)</td>\n      <td>(14, 9)</td>\n      <td>(14, 13)</td>\n      <td>(14, 7)</td>\n      <td>(14, 5)</td>\n      <td>(14, 2)</td>\n      <td>(14, 17)</td>\n      <td>(14, 12)</td>\n    </tr>\n    <tr>\n      <th>15</th>\n      <td>(15, 17)</td>\n      <td>(15, 7)</td>\n      <td>(15, 18)</td>\n      <td>(15, 15)</td>\n      <td>(15, 12)</td>\n      <td>(15, 10)</td>\n      <td>(15, 8)</td>\n      <td>(15, 3)</td>\n      <td>(15, 4)</td>\n      <td>(15, 19)</td>\n      <td>(15, 2)</td>\n      <td>(15, 13)</td>\n      <td>(15, 11)</td>\n      <td>(15, 9)</td>\n      <td>(15, 5)</td>\n      <td>(15, 6)</td>\n      <td>(15, 1)</td>\n      <td>(15, 14)</td>\n      <td>(15, 16)</td>\n      <td>(15, 0)</td>\n    </tr>\n    <tr>\n      <th>16</th>\n      <td>(16, 6)</td>\n      <td>(16, 11)</td>\n      <td>(16, 8)</td>\n      <td>(16, 18)</td>\n      <td>(16, 1)</td>\n      <td>(16, 13)</td>\n      <td>(16, 16)</td>\n      <td>(16, 12)</td>\n      <td>(16, 15)</td>\n      <td>(16, 5)</td>\n      <td>(16, 4)</td>\n      <td>(16, 14)</td>\n      <td>(16, 0)</td>\n      <td>(16, 2)</td>\n      <td>(16, 17)</td>\n      <td>(16, 7)</td>\n      <td>(16, 10)</td>\n      <td>(16, 3)</td>\n      <td>(16, 19)</td>\n      <td>(16, 9)</td>\n    </tr>\n    <tr>\n      <th>17</th>\n      <td>(17, 14)</td>\n      <td>(17, 4)</td>\n      <td>(17, 18)</td>\n      <td>(17, 2)</td>\n      <td>(17, 11)</td>\n      <td>(17, 12)</td>\n      <td>(17, 13)</td>\n      <td>(17, 15)</td>\n      <td>(17, 1)</td>\n      <td>(17, 10)</td>\n      <td>(17, 6)</td>\n      <td>(17, 7)</td>\n      <td>(17, 3)</td>\n      <td>(17, 17)</td>\n      <td>(17, 5)</td>\n      <td>(17, 0)</td>\n      <td>(17, 9)</td>\n      <td>(17, 8)</td>\n      <td>(17, 19)</td>\n      <td>(17, 16)</td>\n    </tr>\n    <tr>\n      <th>18</th>\n      <td>(18, 16)</td>\n      <td>(18, 4)</td>\n      <td>(18, 5)</td>\n      <td>(18, 1)</td>\n      <td>(18, 8)</td>\n      <td>(18, 17)</td>\n      <td>(18, 10)</td>\n      <td>(18, 3)</td>\n      <td>(18, 12)</td>\n      <td>(18, 6)</td>\n      <td>(18, 13)</td>\n      <td>(18, 0)</td>\n      <td>(18, 2)</td>\n      <td>(18, 18)</td>\n      <td>(18, 7)</td>\n      <td>(18, 19)</td>\n      <td>(18, 14)</td>\n      <td>(18, 9)</td>\n      <td>(18, 15)</td>\n      <td>(18, 11)</td>\n    </tr>\n    <tr>\n      <th>19</th>\n      <td>(19, 4)</td>\n      <td>(19, 13)</td>\n      <td>(19, 0)</td>\n      <td>(19, 16)</td>\n      <td>(19, 9)</td>\n      <td>(19, 18)</td>\n      <td>(19, 5)</td>\n      <td>(19, 14)</td>\n      <td>(19, 17)</td>\n      <td>(19, 1)</td>\n      <td>(19, 11)</td>\n      <td>(19, 12)</td>\n      <td>(19, 8)</td>\n      <td>(19, 7)</td>\n      <td>(19, 19)</td>\n      <td>(19, 3)</td>\n      <td>(19, 6)</td>\n      <td>(19, 15)</td>\n      <td>(19, 2)</td>\n      <td>(19, 10)</td>\n    </tr>\n  </tbody>\n</table>\n</div>"
     },
     "execution_count": 9,
     "metadata": {},
     "output_type": "execute_result"
    }
   ],
   "source": [
    "#Obtaining a set of pairs from keys and messages for each ciphertext.\n",
    "\n",
    "index_pairs = {cryptotext: [] for cryptotext in range(length_table)}\n",
    "\n",
    "for index_key in range(length_table):\n",
    "    for index_message in range(length_table):\n",
    "        \n",
    "        text = encryption_table[index_key][index_message]\n",
    "        index_pairs[text].append((index_key, index_message))\n",
    "\n",
    "#Showing a set of pairs\n",
    "pd.DataFrame.from_dict(index_pairs)\n",
    "\n",
    "#index_pairs"
   ]
  },
  {
   "cell_type": "markdown",
   "source": [
    "### Формуємо детерміністичні вирішуючі функції\n",
    "1) Обчислюємо спершу $P(C)$\n",
    "![image](./img/P_c_1.png \"P_C\")"
   ],
   "metadata": {
    "collapsed": false
   },
   "id": "799fa1a3ceed6dc6"
  },
  {
   "cell_type": "code",
   "execution_count": 10,
   "id": "b7554a74",
   "metadata": {
    "ExecuteTime": {
     "end_time": "2023-10-18T18:18:47.291788439Z",
     "start_time": "2023-10-18T18:18:47.096054575Z"
    }
   },
   "outputs": [
    {
     "data": {
      "text/plain": "           0\n0   0.044715\n1   0.051335\n2   0.054680\n3   0.053265\n4   0.056390\n5   0.049030\n6   0.055035\n7   0.058460\n8   0.052105\n9   0.047285\n10  0.055970\n11  0.052645\n12  0.056885\n13  0.052100\n14  0.045395\n15  0.058095\n16  0.054755\n17  0.056010\n18  0.048190\n19  0.056155",
      "text/html": "<div>\n<style scoped>\n    .dataframe tbody tr th:only-of-type {\n        vertical-align: middle;\n    }\n\n    .dataframe tbody tr th {\n        vertical-align: top;\n    }\n\n    .dataframe thead th {\n        text-align: right;\n    }\n</style>\n<table border=\"1\" class=\"dataframe\">\n  <thead>\n    <tr style=\"text-align: right;\">\n      <th></th>\n      <th>0</th>\n    </tr>\n  </thead>\n  <tbody>\n    <tr>\n      <th>0</th>\n      <td>0.044715</td>\n    </tr>\n    <tr>\n      <th>1</th>\n      <td>0.051335</td>\n    </tr>\n    <tr>\n      <th>2</th>\n      <td>0.054680</td>\n    </tr>\n    <tr>\n      <th>3</th>\n      <td>0.053265</td>\n    </tr>\n    <tr>\n      <th>4</th>\n      <td>0.056390</td>\n    </tr>\n    <tr>\n      <th>5</th>\n      <td>0.049030</td>\n    </tr>\n    <tr>\n      <th>6</th>\n      <td>0.055035</td>\n    </tr>\n    <tr>\n      <th>7</th>\n      <td>0.058460</td>\n    </tr>\n    <tr>\n      <th>8</th>\n      <td>0.052105</td>\n    </tr>\n    <tr>\n      <th>9</th>\n      <td>0.047285</td>\n    </tr>\n    <tr>\n      <th>10</th>\n      <td>0.055970</td>\n    </tr>\n    <tr>\n      <th>11</th>\n      <td>0.052645</td>\n    </tr>\n    <tr>\n      <th>12</th>\n      <td>0.056885</td>\n    </tr>\n    <tr>\n      <th>13</th>\n      <td>0.052100</td>\n    </tr>\n    <tr>\n      <th>14</th>\n      <td>0.045395</td>\n    </tr>\n    <tr>\n      <th>15</th>\n      <td>0.058095</td>\n    </tr>\n    <tr>\n      <th>16</th>\n      <td>0.054755</td>\n    </tr>\n    <tr>\n      <th>17</th>\n      <td>0.056010</td>\n    </tr>\n    <tr>\n      <th>18</th>\n      <td>0.048190</td>\n    </tr>\n    <tr>\n      <th>19</th>\n      <td>0.056155</td>\n    </tr>\n  </tbody>\n</table>\n</div>"
     },
     "execution_count": 10,
     "metadata": {},
     "output_type": "execute_result"
    }
   ],
   "source": [
    "probabilites_ciphertext = []\n",
    "for crypto_index in index_pairs:\n",
    "    \n",
    "    probability_products = []\n",
    "    list_of_pairs = index_pairs[crypto_index]\n",
    "    \n",
    "    for pair in list_of_pairs:\n",
    "        \n",
    "        index_key, index_message = pair\n",
    "        product = distribution_keys[index_key]*distribution_messages[index_message]\n",
    "        probability_products.append(product)\n",
    "    \n",
    "    probability = sum(probability_products)\n",
    "    probabilites_ciphertext.append(probability)\n",
    "\n",
    "pd.DataFrame(probabilites_ciphertext)        "
   ]
  },
  {
   "cell_type": "markdown",
   "source": [
    " 2) Обчислюємо $P(M, C)$\n",
    "![image](./img/P_m_c.png)"
   ],
   "metadata": {
    "collapsed": false
   },
   "id": "efcdc172c08d97e8"
  },
  {
   "cell_type": "code",
   "execution_count": 11,
   "id": "40208035",
   "metadata": {
    "ExecuteTime": {
     "end_time": "2023-10-18T18:18:47.293052882Z",
     "start_time": "2023-10-18T18:18:47.096268066Z"
    }
   },
   "outputs": [
    {
     "data": {
      "text/plain": "          0         1         2         3        4         5         6   \\\n0   0.000000  0.004500  0.004500  0.004500  0.00000  0.000000  0.000000   \n1   0.000000  0.000000  0.013650  0.009100  0.01820  0.004550  0.000000   \n2   0.004600  0.009200  0.000000  0.004600  0.00000  0.000000  0.018400   \n3   0.000000  0.000000  0.004650  0.000000  0.00465  0.004650  0.004650   \n4   0.004000  0.004000  0.002000  0.000000  0.00000  0.002000  0.004000   \n5   0.002050  0.000000  0.006150  0.000000  0.00000  0.000000  0.006150   \n6   0.004200  0.002100  0.002100  0.002100  0.00000  0.000000  0.000000   \n7   0.002150  0.006450  0.002150  0.004300  0.00000  0.000000  0.002150   \n8   0.000000  0.000000  0.002200  0.000000  0.00660  0.000000  0.002200   \n9   0.002250  0.000000  0.002250  0.004500  0.00225  0.002250  0.004500   \n10  0.000000  0.004600  0.000000  0.002300  0.00460  0.006900  0.002300   \n11  0.000000  0.007050  0.004700  0.004700  0.00705  0.000000  0.000000   \n12  0.002400  0.004800  0.000000  0.004800  0.00480  0.004800  0.000000   \n13  0.002450  0.002450  0.000000  0.000000  0.00000  0.007350  0.002450   \n14  0.004100  0.000000  0.002050  0.000000  0.00205  0.002050  0.002050   \n15  0.002055  0.002055  0.000000  0.004110  0.00000  0.002055  0.002055   \n16  0.004120  0.002060  0.000000  0.004120  0.00412  0.000000  0.002060   \n17  0.006195  0.000000  0.002065  0.002065  0.00000  0.002065  0.000000   \n18  0.002070  0.002070  0.004140  0.002070  0.00207  0.006210  0.002070   \n19  0.002075  0.000000  0.002075  0.000000  0.00000  0.004150  0.000000   \n\n          7         8         9        10        11        12        13  \\\n0   0.000000  0.004500  0.004500  0.00000  0.013500  0.013500  0.009000   \n1   0.004550  0.004550  0.004550  0.00910  0.004550  0.004550  0.000000   \n2   0.000000  0.004600  0.000000  0.00920  0.000000  0.004600  0.009200   \n3   0.023250  0.004650  0.000000  0.00465  0.000000  0.004650  0.000000   \n4   0.002000  0.002000  0.002000  0.00200  0.002000  0.004000  0.002000   \n5   0.000000  0.004100  0.002050  0.00410  0.002050  0.000000  0.002050   \n6   0.004200  0.002100  0.008400  0.00210  0.000000  0.000000  0.000000   \n7   0.000000  0.002150  0.002150  0.00000  0.002150  0.000000  0.004300   \n8   0.002200  0.000000  0.002200  0.00440  0.002200  0.002200  0.006600   \n9   0.000000  0.002250  0.000000  0.00225  0.000000  0.002250  0.004500   \n10  0.002300  0.002300  0.004600  0.00000  0.000000  0.002300  0.000000   \n11  0.002350  0.000000  0.002350  0.00470  0.000000  0.002350  0.000000   \n12  0.002400  0.002400  0.000000  0.00240  0.002400  0.000000  0.000000   \n13  0.004900  0.000000  0.000000  0.00490  0.007350  0.000000  0.000000   \n14  0.002050  0.000000  0.000000  0.00205  0.010250  0.004100  0.000000   \n15  0.002055  0.004110  0.000000  0.00000  0.002055  0.006165  0.002055   \n16  0.000000  0.004120  0.002060  0.00412  0.000000  0.000000  0.002060   \n17  0.002065  0.004130  0.004130  0.00000  0.002065  0.000000  0.006195   \n18  0.004140  0.002070  0.002070  0.00000  0.000000  0.002070  0.004140   \n19  0.000000  0.002075  0.006225  0.00000  0.002075  0.004150  0.000000   \n\n          14        15        16       17        18        19  \n0   0.000000  0.009000  0.009000  0.00900  0.000000  0.004500  \n1   0.000000  0.004550  0.004550  0.00000  0.000000  0.004550  \n2   0.004600  0.000000  0.004600  0.00920  0.004600  0.004600  \n3   0.000000  0.013950  0.004650  0.00465  0.004650  0.009300  \n4   0.000000  0.002000  0.000000  0.00000  0.006000  0.000000  \n5   0.004100  0.002050  0.004100  0.00000  0.000000  0.002050  \n6   0.004200  0.002100  0.002100  0.00210  0.002100  0.002100  \n7   0.002150  0.008600  0.002150  0.00000  0.002150  0.000000  \n8   0.002200  0.002200  0.000000  0.00440  0.002200  0.002200  \n9   0.004500  0.000000  0.004500  0.00450  0.000000  0.002250  \n10  0.002300  0.004600  0.002300  0.00230  0.000000  0.002300  \n11  0.002350  0.000000  0.000000  0.00235  0.004700  0.002350  \n12  0.000000  0.000000  0.002400  0.00720  0.000000  0.007200  \n13  0.002450  0.004900  0.000000  0.00000  0.007350  0.002450  \n14  0.000000  0.000000  0.006150  0.00205  0.002050  0.000000  \n15  0.000000  0.000000  0.002055  0.00411  0.002055  0.004110  \n16  0.006180  0.000000  0.000000  0.00000  0.004120  0.002060  \n17  0.002065  0.000000  0.004130  0.00000  0.002065  0.002065  \n18  0.000000  0.002070  0.002070  0.00000  0.000000  0.002070  \n19  0.008300  0.002075  0.000000  0.00415  0.004150  0.000000  ",
      "text/html": "<div>\n<style scoped>\n    .dataframe tbody tr th:only-of-type {\n        vertical-align: middle;\n    }\n\n    .dataframe tbody tr th {\n        vertical-align: top;\n    }\n\n    .dataframe thead th {\n        text-align: right;\n    }\n</style>\n<table border=\"1\" class=\"dataframe\">\n  <thead>\n    <tr style=\"text-align: right;\">\n      <th></th>\n      <th>0</th>\n      <th>1</th>\n      <th>2</th>\n      <th>3</th>\n      <th>4</th>\n      <th>5</th>\n      <th>6</th>\n      <th>7</th>\n      <th>8</th>\n      <th>9</th>\n      <th>10</th>\n      <th>11</th>\n      <th>12</th>\n      <th>13</th>\n      <th>14</th>\n      <th>15</th>\n      <th>16</th>\n      <th>17</th>\n      <th>18</th>\n      <th>19</th>\n    </tr>\n  </thead>\n  <tbody>\n    <tr>\n      <th>0</th>\n      <td>0.000000</td>\n      <td>0.004500</td>\n      <td>0.004500</td>\n      <td>0.004500</td>\n      <td>0.00000</td>\n      <td>0.000000</td>\n      <td>0.000000</td>\n      <td>0.000000</td>\n      <td>0.004500</td>\n      <td>0.004500</td>\n      <td>0.00000</td>\n      <td>0.013500</td>\n      <td>0.013500</td>\n      <td>0.009000</td>\n      <td>0.000000</td>\n      <td>0.009000</td>\n      <td>0.009000</td>\n      <td>0.00900</td>\n      <td>0.000000</td>\n      <td>0.004500</td>\n    </tr>\n    <tr>\n      <th>1</th>\n      <td>0.000000</td>\n      <td>0.000000</td>\n      <td>0.013650</td>\n      <td>0.009100</td>\n      <td>0.01820</td>\n      <td>0.004550</td>\n      <td>0.000000</td>\n      <td>0.004550</td>\n      <td>0.004550</td>\n      <td>0.004550</td>\n      <td>0.00910</td>\n      <td>0.004550</td>\n      <td>0.004550</td>\n      <td>0.000000</td>\n      <td>0.000000</td>\n      <td>0.004550</td>\n      <td>0.004550</td>\n      <td>0.00000</td>\n      <td>0.000000</td>\n      <td>0.004550</td>\n    </tr>\n    <tr>\n      <th>2</th>\n      <td>0.004600</td>\n      <td>0.009200</td>\n      <td>0.000000</td>\n      <td>0.004600</td>\n      <td>0.00000</td>\n      <td>0.000000</td>\n      <td>0.018400</td>\n      <td>0.000000</td>\n      <td>0.004600</td>\n      <td>0.000000</td>\n      <td>0.00920</td>\n      <td>0.000000</td>\n      <td>0.004600</td>\n      <td>0.009200</td>\n      <td>0.004600</td>\n      <td>0.000000</td>\n      <td>0.004600</td>\n      <td>0.00920</td>\n      <td>0.004600</td>\n      <td>0.004600</td>\n    </tr>\n    <tr>\n      <th>3</th>\n      <td>0.000000</td>\n      <td>0.000000</td>\n      <td>0.004650</td>\n      <td>0.000000</td>\n      <td>0.00465</td>\n      <td>0.004650</td>\n      <td>0.004650</td>\n      <td>0.023250</td>\n      <td>0.004650</td>\n      <td>0.000000</td>\n      <td>0.00465</td>\n      <td>0.000000</td>\n      <td>0.004650</td>\n      <td>0.000000</td>\n      <td>0.000000</td>\n      <td>0.013950</td>\n      <td>0.004650</td>\n      <td>0.00465</td>\n      <td>0.004650</td>\n      <td>0.009300</td>\n    </tr>\n    <tr>\n      <th>4</th>\n      <td>0.004000</td>\n      <td>0.004000</td>\n      <td>0.002000</td>\n      <td>0.000000</td>\n      <td>0.00000</td>\n      <td>0.002000</td>\n      <td>0.004000</td>\n      <td>0.002000</td>\n      <td>0.002000</td>\n      <td>0.002000</td>\n      <td>0.00200</td>\n      <td>0.002000</td>\n      <td>0.004000</td>\n      <td>0.002000</td>\n      <td>0.000000</td>\n      <td>0.002000</td>\n      <td>0.000000</td>\n      <td>0.00000</td>\n      <td>0.006000</td>\n      <td>0.000000</td>\n    </tr>\n    <tr>\n      <th>5</th>\n      <td>0.002050</td>\n      <td>0.000000</td>\n      <td>0.006150</td>\n      <td>0.000000</td>\n      <td>0.00000</td>\n      <td>0.000000</td>\n      <td>0.006150</td>\n      <td>0.000000</td>\n      <td>0.004100</td>\n      <td>0.002050</td>\n      <td>0.00410</td>\n      <td>0.002050</td>\n      <td>0.000000</td>\n      <td>0.002050</td>\n      <td>0.004100</td>\n      <td>0.002050</td>\n      <td>0.004100</td>\n      <td>0.00000</td>\n      <td>0.000000</td>\n      <td>0.002050</td>\n    </tr>\n    <tr>\n      <th>6</th>\n      <td>0.004200</td>\n      <td>0.002100</td>\n      <td>0.002100</td>\n      <td>0.002100</td>\n      <td>0.00000</td>\n      <td>0.000000</td>\n      <td>0.000000</td>\n      <td>0.004200</td>\n      <td>0.002100</td>\n      <td>0.008400</td>\n      <td>0.00210</td>\n      <td>0.000000</td>\n      <td>0.000000</td>\n      <td>0.000000</td>\n      <td>0.004200</td>\n      <td>0.002100</td>\n      <td>0.002100</td>\n      <td>0.00210</td>\n      <td>0.002100</td>\n      <td>0.002100</td>\n    </tr>\n    <tr>\n      <th>7</th>\n      <td>0.002150</td>\n      <td>0.006450</td>\n      <td>0.002150</td>\n      <td>0.004300</td>\n      <td>0.00000</td>\n      <td>0.000000</td>\n      <td>0.002150</td>\n      <td>0.000000</td>\n      <td>0.002150</td>\n      <td>0.002150</td>\n      <td>0.00000</td>\n      <td>0.002150</td>\n      <td>0.000000</td>\n      <td>0.004300</td>\n      <td>0.002150</td>\n      <td>0.008600</td>\n      <td>0.002150</td>\n      <td>0.00000</td>\n      <td>0.002150</td>\n      <td>0.000000</td>\n    </tr>\n    <tr>\n      <th>8</th>\n      <td>0.000000</td>\n      <td>0.000000</td>\n      <td>0.002200</td>\n      <td>0.000000</td>\n      <td>0.00660</td>\n      <td>0.000000</td>\n      <td>0.002200</td>\n      <td>0.002200</td>\n      <td>0.000000</td>\n      <td>0.002200</td>\n      <td>0.00440</td>\n      <td>0.002200</td>\n      <td>0.002200</td>\n      <td>0.006600</td>\n      <td>0.002200</td>\n      <td>0.002200</td>\n      <td>0.000000</td>\n      <td>0.00440</td>\n      <td>0.002200</td>\n      <td>0.002200</td>\n    </tr>\n    <tr>\n      <th>9</th>\n      <td>0.002250</td>\n      <td>0.000000</td>\n      <td>0.002250</td>\n      <td>0.004500</td>\n      <td>0.00225</td>\n      <td>0.002250</td>\n      <td>0.004500</td>\n      <td>0.000000</td>\n      <td>0.002250</td>\n      <td>0.000000</td>\n      <td>0.00225</td>\n      <td>0.000000</td>\n      <td>0.002250</td>\n      <td>0.004500</td>\n      <td>0.004500</td>\n      <td>0.000000</td>\n      <td>0.004500</td>\n      <td>0.00450</td>\n      <td>0.000000</td>\n      <td>0.002250</td>\n    </tr>\n    <tr>\n      <th>10</th>\n      <td>0.000000</td>\n      <td>0.004600</td>\n      <td>0.000000</td>\n      <td>0.002300</td>\n      <td>0.00460</td>\n      <td>0.006900</td>\n      <td>0.002300</td>\n      <td>0.002300</td>\n      <td>0.002300</td>\n      <td>0.004600</td>\n      <td>0.00000</td>\n      <td>0.000000</td>\n      <td>0.002300</td>\n      <td>0.000000</td>\n      <td>0.002300</td>\n      <td>0.004600</td>\n      <td>0.002300</td>\n      <td>0.00230</td>\n      <td>0.000000</td>\n      <td>0.002300</td>\n    </tr>\n    <tr>\n      <th>11</th>\n      <td>0.000000</td>\n      <td>0.007050</td>\n      <td>0.004700</td>\n      <td>0.004700</td>\n      <td>0.00705</td>\n      <td>0.000000</td>\n      <td>0.000000</td>\n      <td>0.002350</td>\n      <td>0.000000</td>\n      <td>0.002350</td>\n      <td>0.00470</td>\n      <td>0.000000</td>\n      <td>0.002350</td>\n      <td>0.000000</td>\n      <td>0.002350</td>\n      <td>0.000000</td>\n      <td>0.000000</td>\n      <td>0.00235</td>\n      <td>0.004700</td>\n      <td>0.002350</td>\n    </tr>\n    <tr>\n      <th>12</th>\n      <td>0.002400</td>\n      <td>0.004800</td>\n      <td>0.000000</td>\n      <td>0.004800</td>\n      <td>0.00480</td>\n      <td>0.004800</td>\n      <td>0.000000</td>\n      <td>0.002400</td>\n      <td>0.002400</td>\n      <td>0.000000</td>\n      <td>0.00240</td>\n      <td>0.002400</td>\n      <td>0.000000</td>\n      <td>0.000000</td>\n      <td>0.000000</td>\n      <td>0.000000</td>\n      <td>0.002400</td>\n      <td>0.00720</td>\n      <td>0.000000</td>\n      <td>0.007200</td>\n    </tr>\n    <tr>\n      <th>13</th>\n      <td>0.002450</td>\n      <td>0.002450</td>\n      <td>0.000000</td>\n      <td>0.000000</td>\n      <td>0.00000</td>\n      <td>0.007350</td>\n      <td>0.002450</td>\n      <td>0.004900</td>\n      <td>0.000000</td>\n      <td>0.000000</td>\n      <td>0.00490</td>\n      <td>0.007350</td>\n      <td>0.000000</td>\n      <td>0.000000</td>\n      <td>0.002450</td>\n      <td>0.004900</td>\n      <td>0.000000</td>\n      <td>0.00000</td>\n      <td>0.007350</td>\n      <td>0.002450</td>\n    </tr>\n    <tr>\n      <th>14</th>\n      <td>0.004100</td>\n      <td>0.000000</td>\n      <td>0.002050</td>\n      <td>0.000000</td>\n      <td>0.00205</td>\n      <td>0.002050</td>\n      <td>0.002050</td>\n      <td>0.002050</td>\n      <td>0.000000</td>\n      <td>0.000000</td>\n      <td>0.00205</td>\n      <td>0.010250</td>\n      <td>0.004100</td>\n      <td>0.000000</td>\n      <td>0.000000</td>\n      <td>0.000000</td>\n      <td>0.006150</td>\n      <td>0.00205</td>\n      <td>0.002050</td>\n      <td>0.000000</td>\n    </tr>\n    <tr>\n      <th>15</th>\n      <td>0.002055</td>\n      <td>0.002055</td>\n      <td>0.000000</td>\n      <td>0.004110</td>\n      <td>0.00000</td>\n      <td>0.002055</td>\n      <td>0.002055</td>\n      <td>0.002055</td>\n      <td>0.004110</td>\n      <td>0.000000</td>\n      <td>0.00000</td>\n      <td>0.002055</td>\n      <td>0.006165</td>\n      <td>0.002055</td>\n      <td>0.000000</td>\n      <td>0.000000</td>\n      <td>0.002055</td>\n      <td>0.00411</td>\n      <td>0.002055</td>\n      <td>0.004110</td>\n    </tr>\n    <tr>\n      <th>16</th>\n      <td>0.004120</td>\n      <td>0.002060</td>\n      <td>0.000000</td>\n      <td>0.004120</td>\n      <td>0.00412</td>\n      <td>0.000000</td>\n      <td>0.002060</td>\n      <td>0.000000</td>\n      <td>0.004120</td>\n      <td>0.002060</td>\n      <td>0.00412</td>\n      <td>0.000000</td>\n      <td>0.000000</td>\n      <td>0.002060</td>\n      <td>0.006180</td>\n      <td>0.000000</td>\n      <td>0.000000</td>\n      <td>0.00000</td>\n      <td>0.004120</td>\n      <td>0.002060</td>\n    </tr>\n    <tr>\n      <th>17</th>\n      <td>0.006195</td>\n      <td>0.000000</td>\n      <td>0.002065</td>\n      <td>0.002065</td>\n      <td>0.00000</td>\n      <td>0.002065</td>\n      <td>0.000000</td>\n      <td>0.002065</td>\n      <td>0.004130</td>\n      <td>0.004130</td>\n      <td>0.00000</td>\n      <td>0.002065</td>\n      <td>0.000000</td>\n      <td>0.006195</td>\n      <td>0.002065</td>\n      <td>0.000000</td>\n      <td>0.004130</td>\n      <td>0.00000</td>\n      <td>0.002065</td>\n      <td>0.002065</td>\n    </tr>\n    <tr>\n      <th>18</th>\n      <td>0.002070</td>\n      <td>0.002070</td>\n      <td>0.004140</td>\n      <td>0.002070</td>\n      <td>0.00207</td>\n      <td>0.006210</td>\n      <td>0.002070</td>\n      <td>0.004140</td>\n      <td>0.002070</td>\n      <td>0.002070</td>\n      <td>0.00000</td>\n      <td>0.000000</td>\n      <td>0.002070</td>\n      <td>0.004140</td>\n      <td>0.000000</td>\n      <td>0.002070</td>\n      <td>0.002070</td>\n      <td>0.00000</td>\n      <td>0.000000</td>\n      <td>0.002070</td>\n    </tr>\n    <tr>\n      <th>19</th>\n      <td>0.002075</td>\n      <td>0.000000</td>\n      <td>0.002075</td>\n      <td>0.000000</td>\n      <td>0.00000</td>\n      <td>0.004150</td>\n      <td>0.000000</td>\n      <td>0.000000</td>\n      <td>0.002075</td>\n      <td>0.006225</td>\n      <td>0.00000</td>\n      <td>0.002075</td>\n      <td>0.004150</td>\n      <td>0.000000</td>\n      <td>0.008300</td>\n      <td>0.002075</td>\n      <td>0.000000</td>\n      <td>0.00415</td>\n      <td>0.004150</td>\n      <td>0.000000</td>\n    </tr>\n  </tbody>\n</table>\n</div>"
     },
     "execution_count": 11,
     "metadata": {},
     "output_type": "execute_result"
    }
   ],
   "source": [
    "probabilites_ciphertext_messages = [[0]*length_table for _ in range(length_table)]\n",
    "\n",
    "for crypto_index in range(length_table):\n",
    "    for message_index in range(length_table):\n",
    "        keys = []\n",
    "        for pair in index_pairs[crypto_index]:\n",
    "            if pair[-1] == message_index:\n",
    "                keys.append(pair[0])\n",
    "        keys_distributed = [distribution_keys[index_key] for index_key in keys]\n",
    "        product = distribution_messages[message_index]*sum(keys_distributed)\n",
    "        probabilites_ciphertext_messages[message_index][crypto_index] = product\n",
    "\n",
    "pd.DataFrame(probabilites_ciphertext_messages)\n",
    "    "
   ]
  },
  {
   "cell_type": "markdown",
   "source": [
    "3) Обчислюємо $P(C|M) = \\dfrac{P(M, C)}{P(C)}$"
   ],
   "metadata": {
    "collapsed": false
   },
   "id": "dd2fd714c94a76dc"
  },
  {
   "cell_type": "code",
   "execution_count": 12,
   "id": "40554dce",
   "metadata": {
    "ExecuteTime": {
     "end_time": "2023-10-18T18:18:47.380124256Z",
     "start_time": "2023-10-18T18:18:47.128226818Z"
    }
   },
   "outputs": [
    {
     "data": {
      "text/plain": "          0         1         2         3         4         5         6   \\\n0        0.0  0.087659  0.082297  0.084483       0.0       0.0       0.0   \n1        0.0       0.0  0.249634  0.170844  0.322752    0.0928       0.0   \n2   0.102874  0.179215       0.0  0.086361       0.0       0.0  0.334333   \n3        0.0       0.0   0.08504       0.0  0.082461   0.09484  0.084492   \n4   0.089455   0.07792  0.036576       0.0       0.0  0.040791  0.072681   \n5   0.045846       0.0  0.112473       0.0       0.0       0.0  0.111747   \n6   0.093928  0.040908  0.038405  0.039426       0.0       0.0       0.0   \n7   0.048082  0.125645   0.03932  0.080728       0.0       0.0  0.039066   \n8        0.0       0.0  0.040234       0.0  0.117042       0.0  0.039975   \n9   0.050319       0.0  0.041149  0.084483  0.039901   0.04589  0.081766   \n10       0.0  0.089607       0.0   0.04318  0.081575   0.14073  0.041792   \n11       0.0  0.137333  0.085955  0.088238  0.125022       0.0       0.0   \n12  0.053673  0.093503       0.0  0.090115  0.085121  0.097899       0.0   \n13  0.054791  0.047726       0.0       0.0       0.0  0.149908  0.044517   \n14  0.091692       0.0  0.037491       0.0  0.036354  0.041811  0.037249   \n15  0.045958  0.040031       0.0  0.077161       0.0  0.041913   0.03734   \n16  0.092139  0.040129       0.0  0.077349  0.073063       0.0  0.037431   \n17  0.138544       0.0  0.037765  0.038768       0.0  0.042117       0.0   \n18  0.046293  0.040323  0.075713  0.038862  0.036709  0.126657  0.037612   \n19  0.046405       0.0  0.037948       0.0       0.0  0.084642       0.0   \n\n          7         8         9         10        11        12        13  \\\n0        0.0  0.086364  0.095168       0.0  0.256435  0.237321  0.172745   \n1   0.077831  0.087324  0.096225  0.162587  0.086428  0.079986       0.0   \n2        0.0  0.088283       0.0  0.164374       0.0  0.080865  0.176583   \n3   0.397708  0.089243       0.0   0.08308       0.0  0.081744       0.0   \n4   0.034211  0.038384  0.042297  0.035733   0.03799  0.070317  0.038388   \n5        0.0  0.078687  0.043354  0.073254   0.03894       0.0  0.039347   \n6   0.071844  0.040303  0.177646   0.03752       0.0       0.0       0.0   \n7        0.0  0.041263  0.045469       0.0   0.04084       0.0  0.082534   \n8   0.037633       0.0  0.046526  0.078614  0.041789  0.038675  0.126679   \n9        0.0  0.043182       0.0    0.0402       0.0  0.039553  0.086372   \n10  0.039343  0.044142  0.097282       0.0       0.0  0.040432       0.0   \n11  0.040198       0.0  0.049699  0.083974       0.0  0.041311       0.0   \n12  0.041054  0.046061       0.0   0.04288  0.045588       0.0       0.0   \n13  0.083818       0.0       0.0  0.087547  0.139614       0.0       0.0   \n14  0.035067       0.0       0.0  0.036627    0.1947  0.072075       0.0   \n15  0.035152  0.078879       0.0       0.0  0.039035  0.108377  0.039443   \n16       0.0  0.079071  0.043566  0.073611       0.0       0.0  0.039539   \n17  0.035323  0.079263  0.087343       0.0  0.039225       0.0  0.118906   \n18  0.070818  0.039727  0.043777       0.0       0.0  0.036389  0.079463   \n19       0.0  0.039823  0.131649       0.0  0.039415  0.072954       0.0   \n\n          14        15        16        17        18        19  \n0        0.0  0.154919  0.164369  0.160686       0.0  0.080135  \n1        0.0   0.07832  0.083097       0.0       0.0  0.081026  \n2   0.101333       0.0  0.084011  0.164256  0.095455  0.081916  \n3        0.0  0.240124  0.084924  0.083021  0.096493  0.165613  \n4        0.0  0.034426       0.0       0.0  0.124507       0.0  \n5   0.090318  0.035287  0.074879       0.0       0.0  0.036506  \n6   0.092521  0.036148  0.038353  0.037493  0.043578  0.037396  \n7   0.047362  0.148033  0.039266       0.0  0.044615       0.0  \n8   0.048463  0.037869       0.0  0.078557  0.045653  0.039177  \n9    0.09913       0.0  0.082184  0.080343       0.0  0.040068  \n10  0.050666  0.079181  0.042005  0.041064       0.0  0.040958  \n11  0.051768       0.0       0.0  0.041957  0.097531  0.041848  \n12       0.0       0.0  0.043832  0.128548       0.0  0.128217  \n13  0.053971  0.084345       0.0       0.0  0.152521  0.043629  \n14       0.0       0.0  0.112319  0.036601   0.04254       0.0  \n15       0.0       0.0  0.037531   0.07338  0.042644   0.07319  \n16  0.136138       0.0       0.0       0.0  0.085495  0.036684  \n17   0.04549       0.0  0.075427       0.0  0.042851  0.036773  \n18       0.0  0.035631  0.037805       0.0       0.0  0.036862  \n19   0.18284  0.035717       0.0  0.074094  0.086117       0.0  ",
      "text/html": "<div>\n<style scoped>\n    .dataframe tbody tr th:only-of-type {\n        vertical-align: middle;\n    }\n\n    .dataframe tbody tr th {\n        vertical-align: top;\n    }\n\n    .dataframe thead th {\n        text-align: right;\n    }\n</style>\n<table border=\"1\" class=\"dataframe\">\n  <thead>\n    <tr style=\"text-align: right;\">\n      <th></th>\n      <th>0</th>\n      <th>1</th>\n      <th>2</th>\n      <th>3</th>\n      <th>4</th>\n      <th>5</th>\n      <th>6</th>\n      <th>7</th>\n      <th>8</th>\n      <th>9</th>\n      <th>10</th>\n      <th>11</th>\n      <th>12</th>\n      <th>13</th>\n      <th>14</th>\n      <th>15</th>\n      <th>16</th>\n      <th>17</th>\n      <th>18</th>\n      <th>19</th>\n    </tr>\n  </thead>\n  <tbody>\n    <tr>\n      <th>0</th>\n      <td>0.0</td>\n      <td>0.087659</td>\n      <td>0.082297</td>\n      <td>0.084483</td>\n      <td>0.0</td>\n      <td>0.0</td>\n      <td>0.0</td>\n      <td>0.0</td>\n      <td>0.086364</td>\n      <td>0.095168</td>\n      <td>0.0</td>\n      <td>0.256435</td>\n      <td>0.237321</td>\n      <td>0.172745</td>\n      <td>0.0</td>\n      <td>0.154919</td>\n      <td>0.164369</td>\n      <td>0.160686</td>\n      <td>0.0</td>\n      <td>0.080135</td>\n    </tr>\n    <tr>\n      <th>1</th>\n      <td>0.0</td>\n      <td>0.0</td>\n      <td>0.249634</td>\n      <td>0.170844</td>\n      <td>0.322752</td>\n      <td>0.0928</td>\n      <td>0.0</td>\n      <td>0.077831</td>\n      <td>0.087324</td>\n      <td>0.096225</td>\n      <td>0.162587</td>\n      <td>0.086428</td>\n      <td>0.079986</td>\n      <td>0.0</td>\n      <td>0.0</td>\n      <td>0.07832</td>\n      <td>0.083097</td>\n      <td>0.0</td>\n      <td>0.0</td>\n      <td>0.081026</td>\n    </tr>\n    <tr>\n      <th>2</th>\n      <td>0.102874</td>\n      <td>0.179215</td>\n      <td>0.0</td>\n      <td>0.086361</td>\n      <td>0.0</td>\n      <td>0.0</td>\n      <td>0.334333</td>\n      <td>0.0</td>\n      <td>0.088283</td>\n      <td>0.0</td>\n      <td>0.164374</td>\n      <td>0.0</td>\n      <td>0.080865</td>\n      <td>0.176583</td>\n      <td>0.101333</td>\n      <td>0.0</td>\n      <td>0.084011</td>\n      <td>0.164256</td>\n      <td>0.095455</td>\n      <td>0.081916</td>\n    </tr>\n    <tr>\n      <th>3</th>\n      <td>0.0</td>\n      <td>0.0</td>\n      <td>0.08504</td>\n      <td>0.0</td>\n      <td>0.082461</td>\n      <td>0.09484</td>\n      <td>0.084492</td>\n      <td>0.397708</td>\n      <td>0.089243</td>\n      <td>0.0</td>\n      <td>0.08308</td>\n      <td>0.0</td>\n      <td>0.081744</td>\n      <td>0.0</td>\n      <td>0.0</td>\n      <td>0.240124</td>\n      <td>0.084924</td>\n      <td>0.083021</td>\n      <td>0.096493</td>\n      <td>0.165613</td>\n    </tr>\n    <tr>\n      <th>4</th>\n      <td>0.089455</td>\n      <td>0.07792</td>\n      <td>0.036576</td>\n      <td>0.0</td>\n      <td>0.0</td>\n      <td>0.040791</td>\n      <td>0.072681</td>\n      <td>0.034211</td>\n      <td>0.038384</td>\n      <td>0.042297</td>\n      <td>0.035733</td>\n      <td>0.03799</td>\n      <td>0.070317</td>\n      <td>0.038388</td>\n      <td>0.0</td>\n      <td>0.034426</td>\n      <td>0.0</td>\n      <td>0.0</td>\n      <td>0.124507</td>\n      <td>0.0</td>\n    </tr>\n    <tr>\n      <th>5</th>\n      <td>0.045846</td>\n      <td>0.0</td>\n      <td>0.112473</td>\n      <td>0.0</td>\n      <td>0.0</td>\n      <td>0.0</td>\n      <td>0.111747</td>\n      <td>0.0</td>\n      <td>0.078687</td>\n      <td>0.043354</td>\n      <td>0.073254</td>\n      <td>0.03894</td>\n      <td>0.0</td>\n      <td>0.039347</td>\n      <td>0.090318</td>\n      <td>0.035287</td>\n      <td>0.074879</td>\n      <td>0.0</td>\n      <td>0.0</td>\n      <td>0.036506</td>\n    </tr>\n    <tr>\n      <th>6</th>\n      <td>0.093928</td>\n      <td>0.040908</td>\n      <td>0.038405</td>\n      <td>0.039426</td>\n      <td>0.0</td>\n      <td>0.0</td>\n      <td>0.0</td>\n      <td>0.071844</td>\n      <td>0.040303</td>\n      <td>0.177646</td>\n      <td>0.03752</td>\n      <td>0.0</td>\n      <td>0.0</td>\n      <td>0.0</td>\n      <td>0.092521</td>\n      <td>0.036148</td>\n      <td>0.038353</td>\n      <td>0.037493</td>\n      <td>0.043578</td>\n      <td>0.037396</td>\n    </tr>\n    <tr>\n      <th>7</th>\n      <td>0.048082</td>\n      <td>0.125645</td>\n      <td>0.03932</td>\n      <td>0.080728</td>\n      <td>0.0</td>\n      <td>0.0</td>\n      <td>0.039066</td>\n      <td>0.0</td>\n      <td>0.041263</td>\n      <td>0.045469</td>\n      <td>0.0</td>\n      <td>0.04084</td>\n      <td>0.0</td>\n      <td>0.082534</td>\n      <td>0.047362</td>\n      <td>0.148033</td>\n      <td>0.039266</td>\n      <td>0.0</td>\n      <td>0.044615</td>\n      <td>0.0</td>\n    </tr>\n    <tr>\n      <th>8</th>\n      <td>0.0</td>\n      <td>0.0</td>\n      <td>0.040234</td>\n      <td>0.0</td>\n      <td>0.117042</td>\n      <td>0.0</td>\n      <td>0.039975</td>\n      <td>0.037633</td>\n      <td>0.0</td>\n      <td>0.046526</td>\n      <td>0.078614</td>\n      <td>0.041789</td>\n      <td>0.038675</td>\n      <td>0.126679</td>\n      <td>0.048463</td>\n      <td>0.037869</td>\n      <td>0.0</td>\n      <td>0.078557</td>\n      <td>0.045653</td>\n      <td>0.039177</td>\n    </tr>\n    <tr>\n      <th>9</th>\n      <td>0.050319</td>\n      <td>0.0</td>\n      <td>0.041149</td>\n      <td>0.084483</td>\n      <td>0.039901</td>\n      <td>0.04589</td>\n      <td>0.081766</td>\n      <td>0.0</td>\n      <td>0.043182</td>\n      <td>0.0</td>\n      <td>0.0402</td>\n      <td>0.0</td>\n      <td>0.039553</td>\n      <td>0.086372</td>\n      <td>0.09913</td>\n      <td>0.0</td>\n      <td>0.082184</td>\n      <td>0.080343</td>\n      <td>0.0</td>\n      <td>0.040068</td>\n    </tr>\n    <tr>\n      <th>10</th>\n      <td>0.0</td>\n      <td>0.089607</td>\n      <td>0.0</td>\n      <td>0.04318</td>\n      <td>0.081575</td>\n      <td>0.14073</td>\n      <td>0.041792</td>\n      <td>0.039343</td>\n      <td>0.044142</td>\n      <td>0.097282</td>\n      <td>0.0</td>\n      <td>0.0</td>\n      <td>0.040432</td>\n      <td>0.0</td>\n      <td>0.050666</td>\n      <td>0.079181</td>\n      <td>0.042005</td>\n      <td>0.041064</td>\n      <td>0.0</td>\n      <td>0.040958</td>\n    </tr>\n    <tr>\n      <th>11</th>\n      <td>0.0</td>\n      <td>0.137333</td>\n      <td>0.085955</td>\n      <td>0.088238</td>\n      <td>0.125022</td>\n      <td>0.0</td>\n      <td>0.0</td>\n      <td>0.040198</td>\n      <td>0.0</td>\n      <td>0.049699</td>\n      <td>0.083974</td>\n      <td>0.0</td>\n      <td>0.041311</td>\n      <td>0.0</td>\n      <td>0.051768</td>\n      <td>0.0</td>\n      <td>0.0</td>\n      <td>0.041957</td>\n      <td>0.097531</td>\n      <td>0.041848</td>\n    </tr>\n    <tr>\n      <th>12</th>\n      <td>0.053673</td>\n      <td>0.093503</td>\n      <td>0.0</td>\n      <td>0.090115</td>\n      <td>0.085121</td>\n      <td>0.097899</td>\n      <td>0.0</td>\n      <td>0.041054</td>\n      <td>0.046061</td>\n      <td>0.0</td>\n      <td>0.04288</td>\n      <td>0.045588</td>\n      <td>0.0</td>\n      <td>0.0</td>\n      <td>0.0</td>\n      <td>0.0</td>\n      <td>0.043832</td>\n      <td>0.128548</td>\n      <td>0.0</td>\n      <td>0.128217</td>\n    </tr>\n    <tr>\n      <th>13</th>\n      <td>0.054791</td>\n      <td>0.047726</td>\n      <td>0.0</td>\n      <td>0.0</td>\n      <td>0.0</td>\n      <td>0.149908</td>\n      <td>0.044517</td>\n      <td>0.083818</td>\n      <td>0.0</td>\n      <td>0.0</td>\n      <td>0.087547</td>\n      <td>0.139614</td>\n      <td>0.0</td>\n      <td>0.0</td>\n      <td>0.053971</td>\n      <td>0.084345</td>\n      <td>0.0</td>\n      <td>0.0</td>\n      <td>0.152521</td>\n      <td>0.043629</td>\n    </tr>\n    <tr>\n      <th>14</th>\n      <td>0.091692</td>\n      <td>0.0</td>\n      <td>0.037491</td>\n      <td>0.0</td>\n      <td>0.036354</td>\n      <td>0.041811</td>\n      <td>0.037249</td>\n      <td>0.035067</td>\n      <td>0.0</td>\n      <td>0.0</td>\n      <td>0.036627</td>\n      <td>0.1947</td>\n      <td>0.072075</td>\n      <td>0.0</td>\n      <td>0.0</td>\n      <td>0.0</td>\n      <td>0.112319</td>\n      <td>0.036601</td>\n      <td>0.04254</td>\n      <td>0.0</td>\n    </tr>\n    <tr>\n      <th>15</th>\n      <td>0.045958</td>\n      <td>0.040031</td>\n      <td>0.0</td>\n      <td>0.077161</td>\n      <td>0.0</td>\n      <td>0.041913</td>\n      <td>0.03734</td>\n      <td>0.035152</td>\n      <td>0.078879</td>\n      <td>0.0</td>\n      <td>0.0</td>\n      <td>0.039035</td>\n      <td>0.108377</td>\n      <td>0.039443</td>\n      <td>0.0</td>\n      <td>0.0</td>\n      <td>0.037531</td>\n      <td>0.07338</td>\n      <td>0.042644</td>\n      <td>0.07319</td>\n    </tr>\n    <tr>\n      <th>16</th>\n      <td>0.092139</td>\n      <td>0.040129</td>\n      <td>0.0</td>\n      <td>0.077349</td>\n      <td>0.073063</td>\n      <td>0.0</td>\n      <td>0.037431</td>\n      <td>0.0</td>\n      <td>0.079071</td>\n      <td>0.043566</td>\n      <td>0.073611</td>\n      <td>0.0</td>\n      <td>0.0</td>\n      <td>0.039539</td>\n      <td>0.136138</td>\n      <td>0.0</td>\n      <td>0.0</td>\n      <td>0.0</td>\n      <td>0.085495</td>\n      <td>0.036684</td>\n    </tr>\n    <tr>\n      <th>17</th>\n      <td>0.138544</td>\n      <td>0.0</td>\n      <td>0.037765</td>\n      <td>0.038768</td>\n      <td>0.0</td>\n      <td>0.042117</td>\n      <td>0.0</td>\n      <td>0.035323</td>\n      <td>0.079263</td>\n      <td>0.087343</td>\n      <td>0.0</td>\n      <td>0.039225</td>\n      <td>0.0</td>\n      <td>0.118906</td>\n      <td>0.04549</td>\n      <td>0.0</td>\n      <td>0.075427</td>\n      <td>0.0</td>\n      <td>0.042851</td>\n      <td>0.036773</td>\n    </tr>\n    <tr>\n      <th>18</th>\n      <td>0.046293</td>\n      <td>0.040323</td>\n      <td>0.075713</td>\n      <td>0.038862</td>\n      <td>0.036709</td>\n      <td>0.126657</td>\n      <td>0.037612</td>\n      <td>0.070818</td>\n      <td>0.039727</td>\n      <td>0.043777</td>\n      <td>0.0</td>\n      <td>0.0</td>\n      <td>0.036389</td>\n      <td>0.079463</td>\n      <td>0.0</td>\n      <td>0.035631</td>\n      <td>0.037805</td>\n      <td>0.0</td>\n      <td>0.0</td>\n      <td>0.036862</td>\n    </tr>\n    <tr>\n      <th>19</th>\n      <td>0.046405</td>\n      <td>0.0</td>\n      <td>0.037948</td>\n      <td>0.0</td>\n      <td>0.0</td>\n      <td>0.084642</td>\n      <td>0.0</td>\n      <td>0.0</td>\n      <td>0.039823</td>\n      <td>0.131649</td>\n      <td>0.0</td>\n      <td>0.039415</td>\n      <td>0.072954</td>\n      <td>0.0</td>\n      <td>0.18284</td>\n      <td>0.035717</td>\n      <td>0.0</td>\n      <td>0.074094</td>\n      <td>0.086117</td>\n      <td>0.0</td>\n    </tr>\n  </tbody>\n</table>\n</div>"
     },
     "execution_count": 12,
     "metadata": {},
     "output_type": "execute_result"
    }
   ],
   "source": [
    "condtitional_probabilities = pd.DataFrame(index = range(length_table), columns = range(length_table))\n",
    "for message in range(length_table):\n",
    "    for cipher_text in range(length_table):\n",
    "        condtitional_probabilities.at[message, cipher_text] = (\n",
    "        probabilites_ciphertext_messages[message][cipher_text]/probabilites_ciphertext[cipher_text])\n",
    "\n",
    "condtitional_probabilities"
   ]
  },
  {
   "cell_type": "markdown",
   "source": [
    "4) Вибираємо максимальні значення та утворюємо детерміністичну вирішуючу функцію, що і буде баєсівською, відповідно до теореми. "
   ],
   "metadata": {
    "collapsed": false
   },
   "id": "3b7d43b48108c398"
  },
  {
   "cell_type": "code",
   "execution_count": 13,
   "id": "a37e1318",
   "metadata": {
    "ExecuteTime": {
     "end_time": "2023-10-18T18:18:47.380779504Z",
     "start_time": "2023-10-18T18:18:47.174070440Z"
    }
   },
   "outputs": [
    {
     "data": {
      "text/plain": "             0   1   2   3   4   5   6   7   8   9   10  11  12  13  14  15  \\\nCiphertexts   0   1   2   3   4   5   6   7   8   9  10  11  12  13  14  15   \nMessages     17   2   1   1   1  13   2   3   3   6   2   0   0   2  19   3   \n\n             16  17  18  19  \nCiphertexts  16  17  18  19  \nMessages      0   2  13   3  ",
      "text/html": "<div>\n<style scoped>\n    .dataframe tbody tr th:only-of-type {\n        vertical-align: middle;\n    }\n\n    .dataframe tbody tr th {\n        vertical-align: top;\n    }\n\n    .dataframe thead th {\n        text-align: right;\n    }\n</style>\n<table border=\"1\" class=\"dataframe\">\n  <thead>\n    <tr style=\"text-align: right;\">\n      <th></th>\n      <th>0</th>\n      <th>1</th>\n      <th>2</th>\n      <th>3</th>\n      <th>4</th>\n      <th>5</th>\n      <th>6</th>\n      <th>7</th>\n      <th>8</th>\n      <th>9</th>\n      <th>10</th>\n      <th>11</th>\n      <th>12</th>\n      <th>13</th>\n      <th>14</th>\n      <th>15</th>\n      <th>16</th>\n      <th>17</th>\n      <th>18</th>\n      <th>19</th>\n    </tr>\n  </thead>\n  <tbody>\n    <tr>\n      <th>Ciphertexts</th>\n      <td>0</td>\n      <td>1</td>\n      <td>2</td>\n      <td>3</td>\n      <td>4</td>\n      <td>5</td>\n      <td>6</td>\n      <td>7</td>\n      <td>8</td>\n      <td>9</td>\n      <td>10</td>\n      <td>11</td>\n      <td>12</td>\n      <td>13</td>\n      <td>14</td>\n      <td>15</td>\n      <td>16</td>\n      <td>17</td>\n      <td>18</td>\n      <td>19</td>\n    </tr>\n    <tr>\n      <th>Messages</th>\n      <td>17</td>\n      <td>2</td>\n      <td>1</td>\n      <td>1</td>\n      <td>1</td>\n      <td>13</td>\n      <td>2</td>\n      <td>3</td>\n      <td>3</td>\n      <td>6</td>\n      <td>2</td>\n      <td>0</td>\n      <td>0</td>\n      <td>2</td>\n      <td>19</td>\n      <td>3</td>\n      <td>0</td>\n      <td>2</td>\n      <td>13</td>\n      <td>3</td>\n    </tr>\n  </tbody>\n</table>\n</div>"
     },
     "execution_count": 13,
     "metadata": {},
     "output_type": "execute_result"
    }
   ],
   "source": [
    "# Finding maximum for all rows\n",
    "max_values = condtitional_probabilities.max()\n",
    "df = condtitional_probabilities\n",
    "\n",
    "values_to_find = max_values\n",
    "j_indices = [_ for _ in range(length_table)] \n",
    "\n",
    "result_df = pd.DataFrame(index=pd.MultiIndex.from_tuples(zip(values_to_find, j_indices), names=['Max_Value', 'Cipher_text_index']))\n",
    "\n",
    "def find_index(value, j_index):\n",
    "    return df.loc[df.iloc[:, j_index] == value].index[0]\n",
    "\n",
    "message_indexes = [find_index(value, j_index) for value, j_index in zip(values_to_find, j_indices)]\n",
    "maximazied_values = {'Ciphertexts': [index for index in range(length_table)],\n",
    "                     'Messages': message_indexes}\n",
    "\n",
    "decision_function = pd.DataFrame(maximazied_values).T\n",
    "\n",
    "decision_function"
   ]
  },
  {
   "cell_type": "markdown",
   "source": [
    "* Визначаємо функцію втрати та обчислюємо оптимальність"
   ],
   "metadata": {
    "collapsed": false
   },
   "id": "b58cc5cd70e9d24b"
  },
  {
   "cell_type": "code",
   "execution_count": 14,
   "id": "65a84d8c",
   "metadata": {
    "ExecuteTime": {
     "end_time": "2023-10-18T18:18:47.382266527Z",
     "start_time": "2023-10-18T18:18:47.174290729Z"
    }
   },
   "outputs": [
    {
     "name": "stderr",
     "output_type": "stream",
     "text": [
      "/tmp/ipykernel_68197/3275803373.py:2: FutureWarning: Series.__getitem__ treating keys as positions is deprecated. In a future version, integer keys will always be treated as labels (consistent with DataFrame behavior). To access a value by position, use `ser.iloc[pos]`\n",
      "  return 0 if decision_function[cipher_text][1] == true_message else 1\n"
     ]
    },
    {
     "data": {
      "text/plain": "0.8376049999999989"
     },
     "execution_count": 14,
     "metadata": {},
     "output_type": "execute_result"
    }
   ],
   "source": [
    "def loss_function(cipher_text: int, true_message: int) -> int:\n",
    "    return 0 if decision_function[cipher_text][1] == true_message else 1\n",
    "\n",
    "def average_losses() -> float:\n",
    "    double_sum_variables = []\n",
    "    for message in range(length_table):\n",
    "        for cipher_text in range(length_table):\n",
    "            var = probabilites_ciphertext_messages[message][cipher_text]*loss_function(cipher_text, message)\n",
    "            double_sum_variables.append(var)\n",
    "    return sum(double_sum_variables)\n",
    "\n",
    "average_losses()"
   ]
  },
  {
   "cell_type": "markdown",
   "id": "cac33043",
   "metadata": {},
   "source": [
    "Як ми можемо побачити, Середні втрати детерміністичної вирішуючої функції $\\delta_{D}$ є досить близькими до одиниці для нашого варіанту, що є не дуже доброю ознакою для криптоаналітика. Перейдімо тепер до побудови стохастичної вирішуючої функції.\n",
    "\n",
    "5) Формуємо стохастичну вирішуючу функцію\n",
    "    * Знаходимо максимальну умовну ймовірність у рядку\n",
    "    * Дивимося чи не повторюється точно та ж ймовірність у рядку\n",
    "    * Як є повторення, то до цих комірок присвоєюмо значення $\\dfrac{1}{s}$, де $s$ -- кількість повторень, інакше залишаємо як є -- 1 "
   ]
  },
  {
   "cell_type": "code",
   "execution_count": 15,
   "id": "4b44ba4e",
   "metadata": {
    "ExecuteTime": {
     "end_time": "2023-10-18T18:18:47.382914245Z",
     "start_time": "2023-10-18T18:18:47.174681544Z"
    }
   },
   "outputs": [],
   "source": [
    "def build_stochastic_decision_function() -> list:\n",
    "    stohastic_function = []\n",
    "    for message in range(length_table):\n",
    "        current_probability_set = condtitional_probabilities[message]\n",
    "        max_probability = max(current_probability_set)\n",
    "        max_probability_entrance = list(current_probability_set).count(max_probability)\n",
    "        \n",
    "        row = [1 / max_probability_entrance if current_probability_set[cipher_text] == max_probability else 0\n",
    "        for cipher_text in range(length_table)]\n",
    "        stohastic_function.append(row)\n",
    "    return stohastic_function\n",
    "\n",
    "stohastic_function_table = pd.DataFrame(build_stochastic_decision_function())"
   ]
  },
  {
   "cell_type": "code",
   "execution_count": 16,
   "id": "7e27d87b",
   "metadata": {
    "ExecuteTime": {
     "end_time": "2023-10-18T18:18:47.395567062Z",
     "start_time": "2023-10-18T18:18:47.254456455Z"
    }
   },
   "outputs": [
    {
     "data": {
      "text/plain": "     0    1    2    3   4   5    6   7   8   9   10  11  12   13  14  15  16  \\\n0   0.0  0.0  0.0  0.0   0   0  0.0   0   0   0   0   0   0  0.0   0   0   0   \n1   0.0  0.0  1.0  0.0   0   0  0.0   0   0   0   0   0   0  0.0   0   0   0   \n2   0.0  1.0  0.0  0.0   0   0  0.0   0   0   0   0   0   0  0.0   0   0   0   \n3   0.0  1.0  0.0  0.0   0   0  0.0   0   0   0   0   0   0  0.0   0   0   0   \n4   0.0  1.0  0.0  0.0   0   0  0.0   0   0   0   0   0   0  0.0   0   0   0   \n5   0.0  0.0  0.0  0.0   0   0  0.0   0   0   0   0   0   0  1.0   0   0   0   \n6   0.0  0.0  1.0  0.0   0   0  0.0   0   0   0   0   0   0  0.0   0   0   0   \n7   0.0  0.0  0.0  1.0   0   0  0.0   0   0   0   0   0   0  0.0   0   0   0   \n8   0.0  0.0  0.0  1.0   0   0  0.0   0   0   0   0   0   0  0.0   0   0   0   \n9   0.0  0.0  0.0  0.0   0   0  1.0   0   0   0   0   0   0  0.0   0   0   0   \n10  0.0  0.0  1.0  0.0   0   0  0.0   0   0   0   0   0   0  0.0   0   0   0   \n11  1.0  0.0  0.0  0.0   0   0  0.0   0   0   0   0   0   0  0.0   0   0   0   \n12  1.0  0.0  0.0  0.0   0   0  0.0   0   0   0   0   0   0  0.0   0   0   0   \n13  0.0  0.0  1.0  0.0   0   0  0.0   0   0   0   0   0   0  0.0   0   0   0   \n14  0.0  0.0  0.0  0.0   0   0  0.0   0   0   0   0   0   0  0.0   0   0   0   \n15  0.0  0.0  0.0  1.0   0   0  0.0   0   0   0   0   0   0  0.0   0   0   0   \n16  1.0  0.0  0.0  0.0   0   0  0.0   0   0   0   0   0   0  0.0   0   0   0   \n17  0.0  0.0  1.0  0.0   0   0  0.0   0   0   0   0   0   0  0.0   0   0   0   \n18  0.0  0.0  0.0  0.0   0   0  0.0   0   0   0   0   0   0  1.0   0   0   0   \n19  0.0  0.0  0.0  1.0   0   0  0.0   0   0   0   0   0   0  0.0   0   0   0   \n\n     17  18   19  \n0   1.0   0  0.0  \n1   0.0   0  0.0  \n2   0.0   0  0.0  \n3   0.0   0  0.0  \n4   0.0   0  0.0  \n5   0.0   0  0.0  \n6   0.0   0  0.0  \n7   0.0   0  0.0  \n8   0.0   0  0.0  \n9   0.0   0  0.0  \n10  0.0   0  0.0  \n11  0.0   0  0.0  \n12  0.0   0  0.0  \n13  0.0   0  0.0  \n14  0.0   0  1.0  \n15  0.0   0  0.0  \n16  0.0   0  0.0  \n17  0.0   0  0.0  \n18  0.0   0  0.0  \n19  0.0   0  0.0  ",
      "text/html": "<div>\n<style scoped>\n    .dataframe tbody tr th:only-of-type {\n        vertical-align: middle;\n    }\n\n    .dataframe tbody tr th {\n        vertical-align: top;\n    }\n\n    .dataframe thead th {\n        text-align: right;\n    }\n</style>\n<table border=\"1\" class=\"dataframe\">\n  <thead>\n    <tr style=\"text-align: right;\">\n      <th></th>\n      <th>0</th>\n      <th>1</th>\n      <th>2</th>\n      <th>3</th>\n      <th>4</th>\n      <th>5</th>\n      <th>6</th>\n      <th>7</th>\n      <th>8</th>\n      <th>9</th>\n      <th>10</th>\n      <th>11</th>\n      <th>12</th>\n      <th>13</th>\n      <th>14</th>\n      <th>15</th>\n      <th>16</th>\n      <th>17</th>\n      <th>18</th>\n      <th>19</th>\n    </tr>\n  </thead>\n  <tbody>\n    <tr>\n      <th>0</th>\n      <td>0.0</td>\n      <td>0.0</td>\n      <td>0.0</td>\n      <td>0.0</td>\n      <td>0</td>\n      <td>0</td>\n      <td>0.0</td>\n      <td>0</td>\n      <td>0</td>\n      <td>0</td>\n      <td>0</td>\n      <td>0</td>\n      <td>0</td>\n      <td>0.0</td>\n      <td>0</td>\n      <td>0</td>\n      <td>0</td>\n      <td>1.0</td>\n      <td>0</td>\n      <td>0.0</td>\n    </tr>\n    <tr>\n      <th>1</th>\n      <td>0.0</td>\n      <td>0.0</td>\n      <td>1.0</td>\n      <td>0.0</td>\n      <td>0</td>\n      <td>0</td>\n      <td>0.0</td>\n      <td>0</td>\n      <td>0</td>\n      <td>0</td>\n      <td>0</td>\n      <td>0</td>\n      <td>0</td>\n      <td>0.0</td>\n      <td>0</td>\n      <td>0</td>\n      <td>0</td>\n      <td>0.0</td>\n      <td>0</td>\n      <td>0.0</td>\n    </tr>\n    <tr>\n      <th>2</th>\n      <td>0.0</td>\n      <td>1.0</td>\n      <td>0.0</td>\n      <td>0.0</td>\n      <td>0</td>\n      <td>0</td>\n      <td>0.0</td>\n      <td>0</td>\n      <td>0</td>\n      <td>0</td>\n      <td>0</td>\n      <td>0</td>\n      <td>0</td>\n      <td>0.0</td>\n      <td>0</td>\n      <td>0</td>\n      <td>0</td>\n      <td>0.0</td>\n      <td>0</td>\n      <td>0.0</td>\n    </tr>\n    <tr>\n      <th>3</th>\n      <td>0.0</td>\n      <td>1.0</td>\n      <td>0.0</td>\n      <td>0.0</td>\n      <td>0</td>\n      <td>0</td>\n      <td>0.0</td>\n      <td>0</td>\n      <td>0</td>\n      <td>0</td>\n      <td>0</td>\n      <td>0</td>\n      <td>0</td>\n      <td>0.0</td>\n      <td>0</td>\n      <td>0</td>\n      <td>0</td>\n      <td>0.0</td>\n      <td>0</td>\n      <td>0.0</td>\n    </tr>\n    <tr>\n      <th>4</th>\n      <td>0.0</td>\n      <td>1.0</td>\n      <td>0.0</td>\n      <td>0.0</td>\n      <td>0</td>\n      <td>0</td>\n      <td>0.0</td>\n      <td>0</td>\n      <td>0</td>\n      <td>0</td>\n      <td>0</td>\n      <td>0</td>\n      <td>0</td>\n      <td>0.0</td>\n      <td>0</td>\n      <td>0</td>\n      <td>0</td>\n      <td>0.0</td>\n      <td>0</td>\n      <td>0.0</td>\n    </tr>\n    <tr>\n      <th>5</th>\n      <td>0.0</td>\n      <td>0.0</td>\n      <td>0.0</td>\n      <td>0.0</td>\n      <td>0</td>\n      <td>0</td>\n      <td>0.0</td>\n      <td>0</td>\n      <td>0</td>\n      <td>0</td>\n      <td>0</td>\n      <td>0</td>\n      <td>0</td>\n      <td>1.0</td>\n      <td>0</td>\n      <td>0</td>\n      <td>0</td>\n      <td>0.0</td>\n      <td>0</td>\n      <td>0.0</td>\n    </tr>\n    <tr>\n      <th>6</th>\n      <td>0.0</td>\n      <td>0.0</td>\n      <td>1.0</td>\n      <td>0.0</td>\n      <td>0</td>\n      <td>0</td>\n      <td>0.0</td>\n      <td>0</td>\n      <td>0</td>\n      <td>0</td>\n      <td>0</td>\n      <td>0</td>\n      <td>0</td>\n      <td>0.0</td>\n      <td>0</td>\n      <td>0</td>\n      <td>0</td>\n      <td>0.0</td>\n      <td>0</td>\n      <td>0.0</td>\n    </tr>\n    <tr>\n      <th>7</th>\n      <td>0.0</td>\n      <td>0.0</td>\n      <td>0.0</td>\n      <td>1.0</td>\n      <td>0</td>\n      <td>0</td>\n      <td>0.0</td>\n      <td>0</td>\n      <td>0</td>\n      <td>0</td>\n      <td>0</td>\n      <td>0</td>\n      <td>0</td>\n      <td>0.0</td>\n      <td>0</td>\n      <td>0</td>\n      <td>0</td>\n      <td>0.0</td>\n      <td>0</td>\n      <td>0.0</td>\n    </tr>\n    <tr>\n      <th>8</th>\n      <td>0.0</td>\n      <td>0.0</td>\n      <td>0.0</td>\n      <td>1.0</td>\n      <td>0</td>\n      <td>0</td>\n      <td>0.0</td>\n      <td>0</td>\n      <td>0</td>\n      <td>0</td>\n      <td>0</td>\n      <td>0</td>\n      <td>0</td>\n      <td>0.0</td>\n      <td>0</td>\n      <td>0</td>\n      <td>0</td>\n      <td>0.0</td>\n      <td>0</td>\n      <td>0.0</td>\n    </tr>\n    <tr>\n      <th>9</th>\n      <td>0.0</td>\n      <td>0.0</td>\n      <td>0.0</td>\n      <td>0.0</td>\n      <td>0</td>\n      <td>0</td>\n      <td>1.0</td>\n      <td>0</td>\n      <td>0</td>\n      <td>0</td>\n      <td>0</td>\n      <td>0</td>\n      <td>0</td>\n      <td>0.0</td>\n      <td>0</td>\n      <td>0</td>\n      <td>0</td>\n      <td>0.0</td>\n      <td>0</td>\n      <td>0.0</td>\n    </tr>\n    <tr>\n      <th>10</th>\n      <td>0.0</td>\n      <td>0.0</td>\n      <td>1.0</td>\n      <td>0.0</td>\n      <td>0</td>\n      <td>0</td>\n      <td>0.0</td>\n      <td>0</td>\n      <td>0</td>\n      <td>0</td>\n      <td>0</td>\n      <td>0</td>\n      <td>0</td>\n      <td>0.0</td>\n      <td>0</td>\n      <td>0</td>\n      <td>0</td>\n      <td>0.0</td>\n      <td>0</td>\n      <td>0.0</td>\n    </tr>\n    <tr>\n      <th>11</th>\n      <td>1.0</td>\n      <td>0.0</td>\n      <td>0.0</td>\n      <td>0.0</td>\n      <td>0</td>\n      <td>0</td>\n      <td>0.0</td>\n      <td>0</td>\n      <td>0</td>\n      <td>0</td>\n      <td>0</td>\n      <td>0</td>\n      <td>0</td>\n      <td>0.0</td>\n      <td>0</td>\n      <td>0</td>\n      <td>0</td>\n      <td>0.0</td>\n      <td>0</td>\n      <td>0.0</td>\n    </tr>\n    <tr>\n      <th>12</th>\n      <td>1.0</td>\n      <td>0.0</td>\n      <td>0.0</td>\n      <td>0.0</td>\n      <td>0</td>\n      <td>0</td>\n      <td>0.0</td>\n      <td>0</td>\n      <td>0</td>\n      <td>0</td>\n      <td>0</td>\n      <td>0</td>\n      <td>0</td>\n      <td>0.0</td>\n      <td>0</td>\n      <td>0</td>\n      <td>0</td>\n      <td>0.0</td>\n      <td>0</td>\n      <td>0.0</td>\n    </tr>\n    <tr>\n      <th>13</th>\n      <td>0.0</td>\n      <td>0.0</td>\n      <td>1.0</td>\n      <td>0.0</td>\n      <td>0</td>\n      <td>0</td>\n      <td>0.0</td>\n      <td>0</td>\n      <td>0</td>\n      <td>0</td>\n      <td>0</td>\n      <td>0</td>\n      <td>0</td>\n      <td>0.0</td>\n      <td>0</td>\n      <td>0</td>\n      <td>0</td>\n      <td>0.0</td>\n      <td>0</td>\n      <td>0.0</td>\n    </tr>\n    <tr>\n      <th>14</th>\n      <td>0.0</td>\n      <td>0.0</td>\n      <td>0.0</td>\n      <td>0.0</td>\n      <td>0</td>\n      <td>0</td>\n      <td>0.0</td>\n      <td>0</td>\n      <td>0</td>\n      <td>0</td>\n      <td>0</td>\n      <td>0</td>\n      <td>0</td>\n      <td>0.0</td>\n      <td>0</td>\n      <td>0</td>\n      <td>0</td>\n      <td>0.0</td>\n      <td>0</td>\n      <td>1.0</td>\n    </tr>\n    <tr>\n      <th>15</th>\n      <td>0.0</td>\n      <td>0.0</td>\n      <td>0.0</td>\n      <td>1.0</td>\n      <td>0</td>\n      <td>0</td>\n      <td>0.0</td>\n      <td>0</td>\n      <td>0</td>\n      <td>0</td>\n      <td>0</td>\n      <td>0</td>\n      <td>0</td>\n      <td>0.0</td>\n      <td>0</td>\n      <td>0</td>\n      <td>0</td>\n      <td>0.0</td>\n      <td>0</td>\n      <td>0.0</td>\n    </tr>\n    <tr>\n      <th>16</th>\n      <td>1.0</td>\n      <td>0.0</td>\n      <td>0.0</td>\n      <td>0.0</td>\n      <td>0</td>\n      <td>0</td>\n      <td>0.0</td>\n      <td>0</td>\n      <td>0</td>\n      <td>0</td>\n      <td>0</td>\n      <td>0</td>\n      <td>0</td>\n      <td>0.0</td>\n      <td>0</td>\n      <td>0</td>\n      <td>0</td>\n      <td>0.0</td>\n      <td>0</td>\n      <td>0.0</td>\n    </tr>\n    <tr>\n      <th>17</th>\n      <td>0.0</td>\n      <td>0.0</td>\n      <td>1.0</td>\n      <td>0.0</td>\n      <td>0</td>\n      <td>0</td>\n      <td>0.0</td>\n      <td>0</td>\n      <td>0</td>\n      <td>0</td>\n      <td>0</td>\n      <td>0</td>\n      <td>0</td>\n      <td>0.0</td>\n      <td>0</td>\n      <td>0</td>\n      <td>0</td>\n      <td>0.0</td>\n      <td>0</td>\n      <td>0.0</td>\n    </tr>\n    <tr>\n      <th>18</th>\n      <td>0.0</td>\n      <td>0.0</td>\n      <td>0.0</td>\n      <td>0.0</td>\n      <td>0</td>\n      <td>0</td>\n      <td>0.0</td>\n      <td>0</td>\n      <td>0</td>\n      <td>0</td>\n      <td>0</td>\n      <td>0</td>\n      <td>0</td>\n      <td>1.0</td>\n      <td>0</td>\n      <td>0</td>\n      <td>0</td>\n      <td>0.0</td>\n      <td>0</td>\n      <td>0.0</td>\n    </tr>\n    <tr>\n      <th>19</th>\n      <td>0.0</td>\n      <td>0.0</td>\n      <td>0.0</td>\n      <td>1.0</td>\n      <td>0</td>\n      <td>0</td>\n      <td>0.0</td>\n      <td>0</td>\n      <td>0</td>\n      <td>0</td>\n      <td>0</td>\n      <td>0</td>\n      <td>0</td>\n      <td>0.0</td>\n      <td>0</td>\n      <td>0</td>\n      <td>0</td>\n      <td>0.0</td>\n      <td>0</td>\n      <td>0.0</td>\n    </tr>\n  </tbody>\n</table>\n</div>"
     },
     "execution_count": 16,
     "metadata": {},
     "output_type": "execute_result"
    }
   ],
   "source": [
    "stohastic_function_table"
   ]
  },
  {
   "cell_type": "markdown",
   "source": [
    "Стосовно отриманих результатів можна сказати, що стохастична та баєсівська співпали у нашому варіанті.\n",
    "\n",
    "6) Точно так само рахуємо втрати, але для стохастичної"
   ],
   "metadata": {
    "collapsed": false
   },
   "id": "bb5ec68fbf10701"
  },
  {
   "cell_type": "code",
   "execution_count": 17,
   "id": "ee07356d",
   "metadata": {
    "ExecuteTime": {
     "end_time": "2023-10-18T18:18:47.396535658Z",
     "start_time": "2023-10-18T18:18:47.255046595Z"
    }
   },
   "outputs": [
    {
     "data": {
      "text/plain": "0.9368099999999993"
     },
     "execution_count": 17,
     "metadata": {},
     "output_type": "execute_result"
    }
   ],
   "source": [
    "def stochastic_function_losses(cipher_text: int, true_text: int) -> float:\n",
    "    variables_list = []\n",
    "    for message in range(length_table):\n",
    "        variable = stohastic_function_table[cipher_text][message]\n",
    "        if variable != true_text: \n",
    "            variables_list.append(variable) \n",
    "    return sum(variables_list)\n",
    "\n",
    "def average_losses_stohastic() -> float:\n",
    "    double_sum_variables = []\n",
    "    for message in range(length_table):\n",
    "        for cipher_text in range(length_table):\n",
    "            var = probabilites_ciphertext_messages[message][cipher_text]*stochastic_function_losses(cipher_text, message)\n",
    "            double_sum_variables.append(var)\n",
    "    return sum(double_sum_variables)\n",
    "\n",
    "average_losses_stohastic()"
   ]
  }
 ],
 "metadata": {
  "kernelspec": {
   "display_name": "Python 3 (ipykernel)",
   "language": "python",
   "name": "python3"
  },
  "language_info": {
   "codemirror_mode": {
    "name": "ipython",
    "version": 3
   },
   "file_extension": ".py",
   "mimetype": "text/x-python",
   "name": "python",
   "nbconvert_exporter": "python",
   "pygments_lexer": "ipython3",
   "version": "3.10.0"
  }
 },
 "nbformat": 4,
 "nbformat_minor": 5
}
